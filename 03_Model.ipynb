{
 "cells": [
  {
   "attachments": {},
   "cell_type": "markdown",
   "metadata": {},
   "source": [
    "# 03 Model"
   ]
  },
  {
   "attachments": {},
   "cell_type": "markdown",
   "metadata": {},
   "source": [
    "## Aims"
   ]
  },
  {
   "attachments": {},
   "cell_type": "markdown",
   "metadata": {},
   "source": [
    "Test different basic models to determine best model for further optimisation\n",
    "weak learners:\n",
    "* KNN\n",
    "* Decision Tree\n",
    "* Logistic Regression\n",
    "* SVM\n",
    "* Naive Bayes\n",
    "\n",
    "determine AUC, f1 score and confusion matrix"
   ]
  },
  {
   "attachments": {},
   "cell_type": "markdown",
   "metadata": {},
   "source": [
    "## Import libraries"
   ]
  },
  {
   "cell_type": "code",
   "execution_count": 161,
   "metadata": {},
   "outputs": [],
   "source": [
    "import pandas as pd\n",
    "import matplotlib.pyplot as plt\n",
    "import numpy as np\n",
    "from sklearn.model_selection import train_test_split\n",
    "from sklearn.metrics import roc_auc_score, classification_report\n",
    "import seaborn as sns\n",
    "\n",
    "import warnings\n",
    "warnings.simplefilter('ignore')\n",
    "\n"
   ]
  },
  {
   "cell_type": "code",
   "execution_count": 162,
   "metadata": {},
   "outputs": [],
   "source": [
    "from sklearn.linear_model import LogisticRegression\n",
    "from sklearn.neighbors import KNeighborsClassifier\n",
    "from sklearn.tree import DecisionTreeClassifier\n",
    "from sklearn.svm import SVC\n",
    "from sklearn.naive_bayes import GaussianNB\n",
    "from sklearn.ensemble import RandomForestClassifier\n",
    "from sklearn.tree import plot_tree"
   ]
  },
  {
   "attachments": {},
   "cell_type": "markdown",
   "metadata": {},
   "source": [
    "## Data Preprocessing"
   ]
  },
  {
   "cell_type": "code",
   "execution_count": 163,
   "metadata": {},
   "outputs": [
    {
     "data": {
      "text/html": [
       "<div>\n",
       "<style scoped>\n",
       "    .dataframe tbody tr th:only-of-type {\n",
       "        vertical-align: middle;\n",
       "    }\n",
       "\n",
       "    .dataframe tbody tr th {\n",
       "        vertical-align: top;\n",
       "    }\n",
       "\n",
       "    .dataframe thead th {\n",
       "        text-align: right;\n",
       "    }\n",
       "</style>\n",
       "<table border=\"1\" class=\"dataframe\">\n",
       "  <thead>\n",
       "    <tr style=\"text-align: right;\">\n",
       "      <th></th>\n",
       "      <th>disrict</th>\n",
       "      <th>client_catg</th>\n",
       "      <th>region</th>\n",
       "      <th>target</th>\n",
       "      <th>1transactions_count</th>\n",
       "      <th>consommation_level_1_mean</th>\n",
       "      <th>consommation_level_2_mean</th>\n",
       "      <th>consommation_level_3_mean</th>\n",
       "      <th>consommation_level_4_mean</th>\n",
       "      <th>tarif_type_mean</th>\n",
       "      <th>counter_number_mean</th>\n",
       "      <th>counter_statue_mode</th>\n",
       "      <th>counter_code_mean</th>\n",
       "      <th>reading_remarque_mean</th>\n",
       "      <th>counter_coefficient_mean</th>\n",
       "      <th>delta_index_mean</th>\n",
       "      <th>months_number_mean</th>\n",
       "      <th>counter_type_mode</th>\n",
       "    </tr>\n",
       "  </thead>\n",
       "  <tbody>\n",
       "    <tr>\n",
       "      <th>0</th>\n",
       "      <td>60</td>\n",
       "      <td>11</td>\n",
       "      <td>101</td>\n",
       "      <td>0.0</td>\n",
       "      <td>35</td>\n",
       "      <td>352.400000</td>\n",
       "      <td>10.571429</td>\n",
       "      <td>0.000000</td>\n",
       "      <td>0.000000</td>\n",
       "      <td>11.000000</td>\n",
       "      <td>1.335667e+06</td>\n",
       "      <td>0</td>\n",
       "      <td>203.685714</td>\n",
       "      <td>6.971429</td>\n",
       "      <td>1.0</td>\n",
       "      <td>362.971429</td>\n",
       "      <td>4.628571</td>\n",
       "      <td>0</td>\n",
       "    </tr>\n",
       "    <tr>\n",
       "      <th>1</th>\n",
       "      <td>69</td>\n",
       "      <td>11</td>\n",
       "      <td>107</td>\n",
       "      <td>0.0</td>\n",
       "      <td>37</td>\n",
       "      <td>557.540541</td>\n",
       "      <td>0.000000</td>\n",
       "      <td>0.000000</td>\n",
       "      <td>0.000000</td>\n",
       "      <td>11.000000</td>\n",
       "      <td>6.789020e+05</td>\n",
       "      <td>0</td>\n",
       "      <td>203.000000</td>\n",
       "      <td>7.216216</td>\n",
       "      <td>1.0</td>\n",
       "      <td>557.540541</td>\n",
       "      <td>4.324324</td>\n",
       "      <td>0</td>\n",
       "    </tr>\n",
       "    <tr>\n",
       "      <th>2</th>\n",
       "      <td>62</td>\n",
       "      <td>11</td>\n",
       "      <td>301</td>\n",
       "      <td>0.0</td>\n",
       "      <td>18</td>\n",
       "      <td>798.611111</td>\n",
       "      <td>37.888889</td>\n",
       "      <td>0.000000</td>\n",
       "      <td>0.000000</td>\n",
       "      <td>11.000000</td>\n",
       "      <td>5.727650e+05</td>\n",
       "      <td>0</td>\n",
       "      <td>203.222222</td>\n",
       "      <td>7.055556</td>\n",
       "      <td>1.0</td>\n",
       "      <td>836.500000</td>\n",
       "      <td>6.444444</td>\n",
       "      <td>0</td>\n",
       "    </tr>\n",
       "    <tr>\n",
       "      <th>3</th>\n",
       "      <td>69</td>\n",
       "      <td>11</td>\n",
       "      <td>105</td>\n",
       "      <td>0.0</td>\n",
       "      <td>20</td>\n",
       "      <td>1.200000</td>\n",
       "      <td>0.000000</td>\n",
       "      <td>0.000000</td>\n",
       "      <td>0.000000</td>\n",
       "      <td>11.000000</td>\n",
       "      <td>2.078000e+03</td>\n",
       "      <td>0</td>\n",
       "      <td>413.000000</td>\n",
       "      <td>6.150000</td>\n",
       "      <td>1.0</td>\n",
       "      <td>1.200000</td>\n",
       "      <td>4.200000</td>\n",
       "      <td>0</td>\n",
       "    </tr>\n",
       "    <tr>\n",
       "      <th>4</th>\n",
       "      <td>62</td>\n",
       "      <td>11</td>\n",
       "      <td>303</td>\n",
       "      <td>0.0</td>\n",
       "      <td>14</td>\n",
       "      <td>663.714286</td>\n",
       "      <td>104.857143</td>\n",
       "      <td>117.357143</td>\n",
       "      <td>36.714286</td>\n",
       "      <td>11.000000</td>\n",
       "      <td>1.957500e+04</td>\n",
       "      <td>0</td>\n",
       "      <td>207.000000</td>\n",
       "      <td>8.857143</td>\n",
       "      <td>1.0</td>\n",
       "      <td>922.642857</td>\n",
       "      <td>3.714286</td>\n",
       "      <td>0</td>\n",
       "    </tr>\n",
       "    <tr>\n",
       "      <th>5</th>\n",
       "      <td>69</td>\n",
       "      <td>11</td>\n",
       "      <td>103</td>\n",
       "      <td>0.0</td>\n",
       "      <td>48</td>\n",
       "      <td>352.104167</td>\n",
       "      <td>10.437500</td>\n",
       "      <td>3.770833</td>\n",
       "      <td>0.000000</td>\n",
       "      <td>22.479167</td>\n",
       "      <td>8.149729e+05</td>\n",
       "      <td>0</td>\n",
       "      <td>124.625000</td>\n",
       "      <td>7.708333</td>\n",
       "      <td>1.0</td>\n",
       "      <td>366.312500</td>\n",
       "      <td>4.000000</td>\n",
       "      <td>0</td>\n",
       "    </tr>\n",
       "    <tr>\n",
       "      <th>6</th>\n",
       "      <td>62</td>\n",
       "      <td>11</td>\n",
       "      <td>309</td>\n",
       "      <td>0.0</td>\n",
       "      <td>40</td>\n",
       "      <td>280.025000</td>\n",
       "      <td>6.550000</td>\n",
       "      <td>0.000000</td>\n",
       "      <td>0.000000</td>\n",
       "      <td>25.500000</td>\n",
       "      <td>4.446350e+04</td>\n",
       "      <td>0</td>\n",
       "      <td>209.000000</td>\n",
       "      <td>7.975000</td>\n",
       "      <td>1.0</td>\n",
       "      <td>286.575000</td>\n",
       "      <td>3.700000</td>\n",
       "      <td>[0 1]</td>\n",
       "    </tr>\n",
       "    <tr>\n",
       "      <th>7</th>\n",
       "      <td>60</td>\n",
       "      <td>11</td>\n",
       "      <td>101</td>\n",
       "      <td>0.0</td>\n",
       "      <td>78</td>\n",
       "      <td>327.500000</td>\n",
       "      <td>0.923077</td>\n",
       "      <td>0.000000</td>\n",
       "      <td>0.000000</td>\n",
       "      <td>25.128205</td>\n",
       "      <td>5.904181e+05</td>\n",
       "      <td>0</td>\n",
       "      <td>106.538462</td>\n",
       "      <td>7.025641</td>\n",
       "      <td>1.0</td>\n",
       "      <td>328.423077</td>\n",
       "      <td>3.871795</td>\n",
       "      <td>0</td>\n",
       "    </tr>\n",
       "    <tr>\n",
       "      <th>8</th>\n",
       "      <td>62</td>\n",
       "      <td>11</td>\n",
       "      <td>301</td>\n",
       "      <td>0.0</td>\n",
       "      <td>2</td>\n",
       "      <td>112.500000</td>\n",
       "      <td>0.000000</td>\n",
       "      <td>0.000000</td>\n",
       "      <td>0.000000</td>\n",
       "      <td>11.000000</td>\n",
       "      <td>1.441290e+05</td>\n",
       "      <td>0</td>\n",
       "      <td>413.000000</td>\n",
       "      <td>7.500000</td>\n",
       "      <td>1.0</td>\n",
       "      <td>112.500000</td>\n",
       "      <td>4.000000</td>\n",
       "      <td>0</td>\n",
       "    </tr>\n",
       "    <tr>\n",
       "      <th>9</th>\n",
       "      <td>60</td>\n",
       "      <td>11</td>\n",
       "      <td>101</td>\n",
       "      <td>0.0</td>\n",
       "      <td>5</td>\n",
       "      <td>850.800000</td>\n",
       "      <td>1629.200000</td>\n",
       "      <td>320.000000</td>\n",
       "      <td>4882.000000</td>\n",
       "      <td>11.000000</td>\n",
       "      <td>5.868000e+05</td>\n",
       "      <td>0</td>\n",
       "      <td>467.000000</td>\n",
       "      <td>9.000000</td>\n",
       "      <td>1.0</td>\n",
       "      <td>7682.000000</td>\n",
       "      <td>4.000000</td>\n",
       "      <td>0</td>\n",
       "    </tr>\n",
       "  </tbody>\n",
       "</table>\n",
       "</div>"
      ],
      "text/plain": [
       "   disrict  client_catg  region  target  1transactions_count  \\\n",
       "0       60           11     101     0.0                   35   \n",
       "1       69           11     107     0.0                   37   \n",
       "2       62           11     301     0.0                   18   \n",
       "3       69           11     105     0.0                   20   \n",
       "4       62           11     303     0.0                   14   \n",
       "5       69           11     103     0.0                   48   \n",
       "6       62           11     309     0.0                   40   \n",
       "7       60           11     101     0.0                   78   \n",
       "8       62           11     301     0.0                    2   \n",
       "9       60           11     101     0.0                    5   \n",
       "\n",
       "   consommation_level_1_mean  consommation_level_2_mean  \\\n",
       "0                 352.400000                  10.571429   \n",
       "1                 557.540541                   0.000000   \n",
       "2                 798.611111                  37.888889   \n",
       "3                   1.200000                   0.000000   \n",
       "4                 663.714286                 104.857143   \n",
       "5                 352.104167                  10.437500   \n",
       "6                 280.025000                   6.550000   \n",
       "7                 327.500000                   0.923077   \n",
       "8                 112.500000                   0.000000   \n",
       "9                 850.800000                1629.200000   \n",
       "\n",
       "   consommation_level_3_mean  consommation_level_4_mean  tarif_type_mean  \\\n",
       "0                   0.000000                   0.000000        11.000000   \n",
       "1                   0.000000                   0.000000        11.000000   \n",
       "2                   0.000000                   0.000000        11.000000   \n",
       "3                   0.000000                   0.000000        11.000000   \n",
       "4                 117.357143                  36.714286        11.000000   \n",
       "5                   3.770833                   0.000000        22.479167   \n",
       "6                   0.000000                   0.000000        25.500000   \n",
       "7                   0.000000                   0.000000        25.128205   \n",
       "8                   0.000000                   0.000000        11.000000   \n",
       "9                 320.000000                4882.000000        11.000000   \n",
       "\n",
       "   counter_number_mean counter_statue_mode  counter_code_mean  \\\n",
       "0         1.335667e+06                   0         203.685714   \n",
       "1         6.789020e+05                   0         203.000000   \n",
       "2         5.727650e+05                   0         203.222222   \n",
       "3         2.078000e+03                   0         413.000000   \n",
       "4         1.957500e+04                   0         207.000000   \n",
       "5         8.149729e+05                   0         124.625000   \n",
       "6         4.446350e+04                   0         209.000000   \n",
       "7         5.904181e+05                   0         106.538462   \n",
       "8         1.441290e+05                   0         413.000000   \n",
       "9         5.868000e+05                   0         467.000000   \n",
       "\n",
       "   reading_remarque_mean  counter_coefficient_mean  delta_index_mean  \\\n",
       "0               6.971429                       1.0        362.971429   \n",
       "1               7.216216                       1.0        557.540541   \n",
       "2               7.055556                       1.0        836.500000   \n",
       "3               6.150000                       1.0          1.200000   \n",
       "4               8.857143                       1.0        922.642857   \n",
       "5               7.708333                       1.0        366.312500   \n",
       "6               7.975000                       1.0        286.575000   \n",
       "7               7.025641                       1.0        328.423077   \n",
       "8               7.500000                       1.0        112.500000   \n",
       "9               9.000000                       1.0       7682.000000   \n",
       "\n",
       "   months_number_mean counter_type_mode  \n",
       "0            4.628571                 0  \n",
       "1            4.324324                 0  \n",
       "2            6.444444                 0  \n",
       "3            4.200000                 0  \n",
       "4            3.714286                 0  \n",
       "5            4.000000                 0  \n",
       "6            3.700000             [0 1]  \n",
       "7            3.871795                 0  \n",
       "8            4.000000                 0  \n",
       "9            4.000000                 0  "
      ]
     },
     "execution_count": 163,
     "metadata": {},
     "output_type": "execute_result"
    }
   ],
   "source": [
    "df = pd.read_csv('data/train.csv')\n",
    "df.head(10)"
   ]
  },
  {
   "attachments": {},
   "cell_type": "markdown",
   "metadata": {},
   "source": [
    "Preprocessing of Data"
   ]
  },
  {
   "cell_type": "code",
   "execution_count": 164,
   "metadata": {},
   "outputs": [
    {
     "data": {
      "text/html": [
       "<div>\n",
       "<style scoped>\n",
       "    .dataframe tbody tr th:only-of-type {\n",
       "        vertical-align: middle;\n",
       "    }\n",
       "\n",
       "    .dataframe tbody tr th {\n",
       "        vertical-align: top;\n",
       "    }\n",
       "\n",
       "    .dataframe thead th {\n",
       "        text-align: right;\n",
       "    }\n",
       "</style>\n",
       "<table border=\"1\" class=\"dataframe\">\n",
       "  <thead>\n",
       "    <tr style=\"text-align: right;\">\n",
       "      <th></th>\n",
       "      <th>disrict</th>\n",
       "      <th>client_catg</th>\n",
       "      <th>region</th>\n",
       "      <th>target</th>\n",
       "      <th>1transactions_count</th>\n",
       "      <th>consommation_level_1_mean</th>\n",
       "      <th>consommation_level_2_mean</th>\n",
       "      <th>consommation_level_3_mean</th>\n",
       "      <th>consommation_level_4_mean</th>\n",
       "      <th>tarif_type_mean</th>\n",
       "      <th>counter_number_mean</th>\n",
       "      <th>counter_code_mean</th>\n",
       "      <th>reading_remarque_mean</th>\n",
       "      <th>counter_coefficient_mean</th>\n",
       "      <th>delta_index_mean</th>\n",
       "      <th>months_number_mean</th>\n",
       "    </tr>\n",
       "  </thead>\n",
       "  <tbody>\n",
       "    <tr>\n",
       "      <th>0</th>\n",
       "      <td>60</td>\n",
       "      <td>11</td>\n",
       "      <td>101</td>\n",
       "      <td>0.0</td>\n",
       "      <td>35</td>\n",
       "      <td>352.400000</td>\n",
       "      <td>10.571429</td>\n",
       "      <td>0.000000</td>\n",
       "      <td>0.000000</td>\n",
       "      <td>11.000000</td>\n",
       "      <td>1.335667e+06</td>\n",
       "      <td>203.685714</td>\n",
       "      <td>6.971429</td>\n",
       "      <td>1.0</td>\n",
       "      <td>362.971429</td>\n",
       "      <td>4.628571</td>\n",
       "    </tr>\n",
       "    <tr>\n",
       "      <th>1</th>\n",
       "      <td>69</td>\n",
       "      <td>11</td>\n",
       "      <td>107</td>\n",
       "      <td>0.0</td>\n",
       "      <td>37</td>\n",
       "      <td>557.540541</td>\n",
       "      <td>0.000000</td>\n",
       "      <td>0.000000</td>\n",
       "      <td>0.000000</td>\n",
       "      <td>11.000000</td>\n",
       "      <td>6.789020e+05</td>\n",
       "      <td>203.000000</td>\n",
       "      <td>7.216216</td>\n",
       "      <td>1.0</td>\n",
       "      <td>557.540541</td>\n",
       "      <td>4.324324</td>\n",
       "    </tr>\n",
       "    <tr>\n",
       "      <th>2</th>\n",
       "      <td>62</td>\n",
       "      <td>11</td>\n",
       "      <td>301</td>\n",
       "      <td>0.0</td>\n",
       "      <td>18</td>\n",
       "      <td>798.611111</td>\n",
       "      <td>37.888889</td>\n",
       "      <td>0.000000</td>\n",
       "      <td>0.000000</td>\n",
       "      <td>11.000000</td>\n",
       "      <td>5.727650e+05</td>\n",
       "      <td>203.222222</td>\n",
       "      <td>7.055556</td>\n",
       "      <td>1.0</td>\n",
       "      <td>836.500000</td>\n",
       "      <td>6.444444</td>\n",
       "    </tr>\n",
       "    <tr>\n",
       "      <th>3</th>\n",
       "      <td>69</td>\n",
       "      <td>11</td>\n",
       "      <td>105</td>\n",
       "      <td>0.0</td>\n",
       "      <td>20</td>\n",
       "      <td>1.200000</td>\n",
       "      <td>0.000000</td>\n",
       "      <td>0.000000</td>\n",
       "      <td>0.000000</td>\n",
       "      <td>11.000000</td>\n",
       "      <td>2.078000e+03</td>\n",
       "      <td>413.000000</td>\n",
       "      <td>6.150000</td>\n",
       "      <td>1.0</td>\n",
       "      <td>1.200000</td>\n",
       "      <td>4.200000</td>\n",
       "    </tr>\n",
       "    <tr>\n",
       "      <th>4</th>\n",
       "      <td>62</td>\n",
       "      <td>11</td>\n",
       "      <td>303</td>\n",
       "      <td>0.0</td>\n",
       "      <td>14</td>\n",
       "      <td>663.714286</td>\n",
       "      <td>104.857143</td>\n",
       "      <td>117.357143</td>\n",
       "      <td>36.714286</td>\n",
       "      <td>11.000000</td>\n",
       "      <td>1.957500e+04</td>\n",
       "      <td>207.000000</td>\n",
       "      <td>8.857143</td>\n",
       "      <td>1.0</td>\n",
       "      <td>922.642857</td>\n",
       "      <td>3.714286</td>\n",
       "    </tr>\n",
       "    <tr>\n",
       "      <th>5</th>\n",
       "      <td>69</td>\n",
       "      <td>11</td>\n",
       "      <td>103</td>\n",
       "      <td>0.0</td>\n",
       "      <td>48</td>\n",
       "      <td>352.104167</td>\n",
       "      <td>10.437500</td>\n",
       "      <td>3.770833</td>\n",
       "      <td>0.000000</td>\n",
       "      <td>22.479167</td>\n",
       "      <td>8.149729e+05</td>\n",
       "      <td>124.625000</td>\n",
       "      <td>7.708333</td>\n",
       "      <td>1.0</td>\n",
       "      <td>366.312500</td>\n",
       "      <td>4.000000</td>\n",
       "    </tr>\n",
       "    <tr>\n",
       "      <th>6</th>\n",
       "      <td>62</td>\n",
       "      <td>11</td>\n",
       "      <td>309</td>\n",
       "      <td>0.0</td>\n",
       "      <td>40</td>\n",
       "      <td>280.025000</td>\n",
       "      <td>6.550000</td>\n",
       "      <td>0.000000</td>\n",
       "      <td>0.000000</td>\n",
       "      <td>25.500000</td>\n",
       "      <td>4.446350e+04</td>\n",
       "      <td>209.000000</td>\n",
       "      <td>7.975000</td>\n",
       "      <td>1.0</td>\n",
       "      <td>286.575000</td>\n",
       "      <td>3.700000</td>\n",
       "    </tr>\n",
       "    <tr>\n",
       "      <th>7</th>\n",
       "      <td>60</td>\n",
       "      <td>11</td>\n",
       "      <td>101</td>\n",
       "      <td>0.0</td>\n",
       "      <td>78</td>\n",
       "      <td>327.500000</td>\n",
       "      <td>0.923077</td>\n",
       "      <td>0.000000</td>\n",
       "      <td>0.000000</td>\n",
       "      <td>25.128205</td>\n",
       "      <td>5.904181e+05</td>\n",
       "      <td>106.538462</td>\n",
       "      <td>7.025641</td>\n",
       "      <td>1.0</td>\n",
       "      <td>328.423077</td>\n",
       "      <td>3.871795</td>\n",
       "    </tr>\n",
       "    <tr>\n",
       "      <th>8</th>\n",
       "      <td>62</td>\n",
       "      <td>11</td>\n",
       "      <td>301</td>\n",
       "      <td>0.0</td>\n",
       "      <td>2</td>\n",
       "      <td>112.500000</td>\n",
       "      <td>0.000000</td>\n",
       "      <td>0.000000</td>\n",
       "      <td>0.000000</td>\n",
       "      <td>11.000000</td>\n",
       "      <td>1.441290e+05</td>\n",
       "      <td>413.000000</td>\n",
       "      <td>7.500000</td>\n",
       "      <td>1.0</td>\n",
       "      <td>112.500000</td>\n",
       "      <td>4.000000</td>\n",
       "    </tr>\n",
       "    <tr>\n",
       "      <th>9</th>\n",
       "      <td>60</td>\n",
       "      <td>11</td>\n",
       "      <td>101</td>\n",
       "      <td>0.0</td>\n",
       "      <td>5</td>\n",
       "      <td>850.800000</td>\n",
       "      <td>1629.200000</td>\n",
       "      <td>320.000000</td>\n",
       "      <td>4882.000000</td>\n",
       "      <td>11.000000</td>\n",
       "      <td>5.868000e+05</td>\n",
       "      <td>467.000000</td>\n",
       "      <td>9.000000</td>\n",
       "      <td>1.0</td>\n",
       "      <td>7682.000000</td>\n",
       "      <td>4.000000</td>\n",
       "    </tr>\n",
       "  </tbody>\n",
       "</table>\n",
       "</div>"
      ],
      "text/plain": [
       "   disrict  client_catg  region  target  1transactions_count  \\\n",
       "0       60           11     101     0.0                   35   \n",
       "1       69           11     107     0.0                   37   \n",
       "2       62           11     301     0.0                   18   \n",
       "3       69           11     105     0.0                   20   \n",
       "4       62           11     303     0.0                   14   \n",
       "5       69           11     103     0.0                   48   \n",
       "6       62           11     309     0.0                   40   \n",
       "7       60           11     101     0.0                   78   \n",
       "8       62           11     301     0.0                    2   \n",
       "9       60           11     101     0.0                    5   \n",
       "\n",
       "   consommation_level_1_mean  consommation_level_2_mean  \\\n",
       "0                 352.400000                  10.571429   \n",
       "1                 557.540541                   0.000000   \n",
       "2                 798.611111                  37.888889   \n",
       "3                   1.200000                   0.000000   \n",
       "4                 663.714286                 104.857143   \n",
       "5                 352.104167                  10.437500   \n",
       "6                 280.025000                   6.550000   \n",
       "7                 327.500000                   0.923077   \n",
       "8                 112.500000                   0.000000   \n",
       "9                 850.800000                1629.200000   \n",
       "\n",
       "   consommation_level_3_mean  consommation_level_4_mean  tarif_type_mean  \\\n",
       "0                   0.000000                   0.000000        11.000000   \n",
       "1                   0.000000                   0.000000        11.000000   \n",
       "2                   0.000000                   0.000000        11.000000   \n",
       "3                   0.000000                   0.000000        11.000000   \n",
       "4                 117.357143                  36.714286        11.000000   \n",
       "5                   3.770833                   0.000000        22.479167   \n",
       "6                   0.000000                   0.000000        25.500000   \n",
       "7                   0.000000                   0.000000        25.128205   \n",
       "8                   0.000000                   0.000000        11.000000   \n",
       "9                 320.000000                4882.000000        11.000000   \n",
       "\n",
       "   counter_number_mean  counter_code_mean  reading_remarque_mean  \\\n",
       "0         1.335667e+06         203.685714               6.971429   \n",
       "1         6.789020e+05         203.000000               7.216216   \n",
       "2         5.727650e+05         203.222222               7.055556   \n",
       "3         2.078000e+03         413.000000               6.150000   \n",
       "4         1.957500e+04         207.000000               8.857143   \n",
       "5         8.149729e+05         124.625000               7.708333   \n",
       "6         4.446350e+04         209.000000               7.975000   \n",
       "7         5.904181e+05         106.538462               7.025641   \n",
       "8         1.441290e+05         413.000000               7.500000   \n",
       "9         5.868000e+05         467.000000               9.000000   \n",
       "\n",
       "   counter_coefficient_mean  delta_index_mean  months_number_mean  \n",
       "0                       1.0        362.971429            4.628571  \n",
       "1                       1.0        557.540541            4.324324  \n",
       "2                       1.0        836.500000            6.444444  \n",
       "3                       1.0          1.200000            4.200000  \n",
       "4                       1.0        922.642857            3.714286  \n",
       "5                       1.0        366.312500            4.000000  \n",
       "6                       1.0        286.575000            3.700000  \n",
       "7                       1.0        328.423077            3.871795  \n",
       "8                       1.0        112.500000            4.000000  \n",
       "9                       1.0       7682.000000            4.000000  "
      ]
     },
     "execution_count": 164,
     "metadata": {},
     "output_type": "execute_result"
    }
   ],
   "source": [
    "# dropping counter_statue_mode and counter_type_mode\n",
    "df_original = df\n",
    "df.drop(['counter_type_mode', 'counter_statue_mode'], axis=1, inplace=True)\n",
    "df.head(10)"
   ]
  },
  {
   "cell_type": "code",
   "execution_count": 165,
   "metadata": {},
   "outputs": [
    {
     "name": "stdout",
     "output_type": "stream",
     "text": [
      "<class 'pandas.core.frame.DataFrame'>\n",
      "RangeIndex: 135493 entries, 0 to 135492\n",
      "Data columns (total 16 columns):\n",
      " #   Column                     Non-Null Count   Dtype  \n",
      "---  ------                     --------------   -----  \n",
      " 0   disrict                    135493 non-null  int64  \n",
      " 1   client_catg                135493 non-null  int64  \n",
      " 2   region                     135493 non-null  int64  \n",
      " 3   target                     135493 non-null  float64\n",
      " 4   1transactions_count        135493 non-null  int64  \n",
      " 5   consommation_level_1_mean  135493 non-null  float64\n",
      " 6   consommation_level_2_mean  135493 non-null  float64\n",
      " 7   consommation_level_3_mean  135493 non-null  float64\n",
      " 8   consommation_level_4_mean  135493 non-null  float64\n",
      " 9   tarif_type_mean            135493 non-null  float64\n",
      " 10  counter_number_mean        135493 non-null  float64\n",
      " 11  counter_code_mean          135493 non-null  float64\n",
      " 12  reading_remarque_mean      135493 non-null  float64\n",
      " 13  counter_coefficient_mean   135493 non-null  float64\n",
      " 14  delta_index_mean           135493 non-null  float64\n",
      " 15  months_number_mean         135493 non-null  float64\n",
      "dtypes: float64(12), int64(4)\n",
      "memory usage: 16.5 MB\n"
     ]
    }
   ],
   "source": [
    "df.info()"
   ]
  },
  {
   "attachments": {},
   "cell_type": "markdown",
   "metadata": {},
   "source": [
    "### Remove duplicated"
   ]
  },
  {
   "cell_type": "code",
   "execution_count": 166,
   "metadata": {},
   "outputs": [
    {
     "data": {
      "text/plain": [
       "False    135492\n",
       "True          1\n",
       "dtype: int64"
      ]
     },
     "execution_count": 166,
     "metadata": {},
     "output_type": "execute_result"
    }
   ],
   "source": [
    "#checking for duplicates\n",
    "df.duplicated().value_counts()"
   ]
  },
  {
   "cell_type": "code",
   "execution_count": 167,
   "metadata": {},
   "outputs": [],
   "source": [
    "#dropping duplicates\n",
    "df = df.drop_duplicates()"
   ]
  },
  {
   "cell_type": "code",
   "execution_count": 168,
   "metadata": {},
   "outputs": [
    {
     "data": {
      "text/plain": [
       "(135492, 16)"
      ]
     },
     "execution_count": 168,
     "metadata": {},
     "output_type": "execute_result"
    }
   ],
   "source": [
    "df.shape"
   ]
  },
  {
   "attachments": {},
   "cell_type": "markdown",
   "metadata": {},
   "source": [
    "### Train test split"
   ]
  },
  {
   "cell_type": "code",
   "execution_count": 169,
   "metadata": {},
   "outputs": [],
   "source": [
    "X=df.drop('target', axis=1)\n",
    "y=df.target\n",
    "X_train, X_test, y_train, y_test= train_test_split(X, y, stratify=y, test_size=0.2, random_state=42)"
   ]
  },
  {
   "attachments": {},
   "cell_type": "markdown",
   "metadata": {},
   "source": [
    "## Model tests"
   ]
  },
  {
   "attachments": {},
   "cell_type": "markdown",
   "metadata": {},
   "source": [
    "### Logistic Regression"
   ]
  },
  {
   "cell_type": "code",
   "execution_count": 170,
   "metadata": {},
   "outputs": [],
   "source": [
    "model_list = []"
   ]
  },
  {
   "cell_type": "code",
   "execution_count": 171,
   "metadata": {},
   "outputs": [
    {
     "name": "stdout",
     "output_type": "stream",
     "text": [
      "0.6000971852946059\n",
      "              precision    recall  f1-score   support\n",
      "\n",
      "         0.0       0.00      0.00      0.00     25586\n",
      "         1.0       0.06      1.00      0.11      1513\n",
      "\n",
      "    accuracy                           0.06     27099\n",
      "   macro avg       0.03      0.50      0.05     27099\n",
      "weighted avg       0.00      0.06      0.01     27099\n",
      "\n"
     ]
    }
   ],
   "source": [
    "# Logistic Regression\n",
    "dict = {0:20, 1:2000}\n",
    "lr = LogisticRegression(class_weight=dict)\n",
    "model_list.append(lr)\n",
    "lr.fit(X_train, y_train)\n",
    "y_pred_lr = lr.predict(X_test)\n",
    "#y_proba = lr.predict_proba(X_test)\n",
    "print(roc_auc_score(y_test, lr.predict_proba(X_test)[:, 1]))\n",
    "print(classification_report(y_test, y_pred_lr))"
   ]
  },
  {
   "attachments": {},
   "cell_type": "markdown",
   "metadata": {},
   "source": [
    "### KNN"
   ]
  },
  {
   "cell_type": "code",
   "execution_count": 172,
   "metadata": {},
   "outputs": [
    {
     "data": {
      "text/plain": [
       "\"\\n#KNN\\nknn = KNeighborsClassifier(n_neighbors=10, weights='distance', n_jobs=-1)\\nmodel_list.append(knn)\\nknn.fit(X_train, y_train)\\ny_pred_knn = knn.predict(X_test)\\n#y_proba = knn.predict_proba(X_test)\\nprint(roc_auc_score(y_test, knn.predict_proba(X_test)[:, 1]))\\nprint(classification_report(y_test, y_pred_knn))\\n\""
      ]
     },
     "execution_count": 172,
     "metadata": {},
     "output_type": "execute_result"
    }
   ],
   "source": [
    "\"\"\"\n",
    "#KNN\n",
    "knn = KNeighborsClassifier(n_neighbors=10, weights='distance', n_jobs=-1)\n",
    "model_list.append(knn)\n",
    "knn.fit(X_train, y_train)\n",
    "y_pred_knn = knn.predict(X_test)\n",
    "#y_proba = knn.predict_proba(X_test)\n",
    "print(roc_auc_score(y_test, knn.predict_proba(X_test)[:, 1]))\n",
    "print(classification_report(y_test, y_pred_knn))\n",
    "\"\"\""
   ]
  },
  {
   "attachments": {},
   "cell_type": "markdown",
   "metadata": {},
   "source": [
    "### Decision Tree"
   ]
  },
  {
   "cell_type": "code",
   "execution_count": 173,
   "metadata": {},
   "outputs": [
    {
     "name": "stdout",
     "output_type": "stream",
     "text": [
      "0.5836025376154517\n",
      "              precision    recall  f1-score   support\n",
      "\n",
      "         0.0       0.95      0.95      0.95     25586\n",
      "         1.0       0.19      0.22      0.21      1513\n",
      "\n",
      "    accuracy                           0.91     27099\n",
      "   macro avg       0.57      0.58      0.58     27099\n",
      "weighted avg       0.91      0.91      0.91     27099\n",
      "\n"
     ]
    }
   ],
   "source": [
    "#Decision Tree\n",
    "tree = DecisionTreeClassifier(criterion = \"gini\") \n",
    "model_list.append(tree)\n",
    "tree.fit(X_train, y_train)\n",
    "y_pred_tree = tree.predict(X_test)\n",
    "#y_proba = tree.predict_proba(X_test)\n",
    "print(roc_auc_score(y_test, tree.predict_proba(X_test)[:, 1]))\n",
    "print(classification_report(y_test, y_pred_tree))"
   ]
  },
  {
   "cell_type": "code",
   "execution_count": 174,
   "metadata": {},
   "outputs": [
    {
     "data": {
      "text/plain": [
       "(array([ 0,  1,  2,  3,  4,  5,  6,  7,  8,  9, 10, 11, 12, 13, 14]),\n",
       " [Text(0, 0, 'disrict'),\n",
       "  Text(1, 0, 'client_catg'),\n",
       "  Text(2, 0, 'region'),\n",
       "  Text(3, 0, '1transactions_count'),\n",
       "  Text(4, 0, 'consommation_level_1_mean'),\n",
       "  Text(5, 0, 'consommation_level_2_mean'),\n",
       "  Text(6, 0, 'consommation_level_3_mean'),\n",
       "  Text(7, 0, 'consommation_level_4_mean'),\n",
       "  Text(8, 0, 'tarif_type_mean'),\n",
       "  Text(9, 0, 'counter_number_mean'),\n",
       "  Text(10, 0, 'counter_code_mean'),\n",
       "  Text(11, 0, 'reading_remarque_mean'),\n",
       "  Text(12, 0, 'counter_coefficient_mean'),\n",
       "  Text(13, 0, 'delta_index_mean'),\n",
       "  Text(14, 0, 'months_number_mean')])"
      ]
     },
     "execution_count": 174,
     "metadata": {},
     "output_type": "execute_result"
    },
    {
     "data": {
      "image/png": "[encoded data removed]",
      "text/plain": [
       "<Figure size 640x480 with 1 Axes>"
      ]
     },
     "metadata": {},
     "output_type": "display_data"
    }
   ],
   "source": [
    "sns.barplot(x=X.columns, y=tree.feature_importances_)\n",
    "plt.xticks(rotation=90)"
   ]
  },
  {
   "attachments": {},
   "cell_type": "markdown",
   "metadata": {},
   "source": [
    "### SVM"
   ]
  },
  {
   "cell_type": "code",
   "execution_count": 175,
   "metadata": {},
   "outputs": [],
   "source": [
    "#support vector machine\n",
    "#vec = SVC(kernel='linear', C=1, gamma='auto')\n",
    "#model_list.append(vec)\n",
    "#vec.fit(X_train.iloc[:1500], y_train.iloc[:1500])\n",
    "#y_pred_vec = vec.predict(X_test)\n",
    "#y_proba = vec.predict_proba(X_test)\n",
    "#print(roc_auc_score(y_test, vec.predict_proba(X_test)[:, 1]))\n",
    "#print(classification_report(y_test, y_pred_vec))\n"
   ]
  },
  {
   "attachments": {},
   "cell_type": "markdown",
   "metadata": {},
   "source": [
    "### Naive Bayes"
   ]
  },
  {
   "cell_type": "code",
   "execution_count": 176,
   "metadata": {},
   "outputs": [
    {
     "name": "stdout",
     "output_type": "stream",
     "text": [
      "0.5735114326660281\n",
      "              precision    recall  f1-score   support\n",
      "\n",
      "         0.0       0.94      1.00      0.97     25586\n",
      "         1.0       0.00      0.00      0.00      1513\n",
      "\n",
      "    accuracy                           0.94     27099\n",
      "   macro avg       0.47      0.50      0.49     27099\n",
      "weighted avg       0.89      0.94      0.92     27099\n",
      "\n"
     ]
    }
   ],
   "source": [
    "#Naive Bayes\n",
    "gnb = GaussianNB()\n",
    "model_list.append(gnb)\n",
    "gnb.fit(X_train, y_train)\n",
    "y_pred_gnb = gnb.predict(X_test)\n",
    "#y_proba = gnb.predict_proba(X_test)\n",
    "print(roc_auc_score(y_test, gnb.predict_proba(X_test)[:, 1]))\n",
    "print(classification_report(y_test, y_pred_gnb))"
   ]
  },
  {
   "attachments": {},
   "cell_type": "markdown",
   "metadata": {},
   "source": [
    "## First model: Random Forest"
   ]
  },
  {
   "attachments": {},
   "cell_type": "markdown",
   "metadata": {},
   "source": [
    "### 100 trees, sqrt features"
   ]
  },
  {
   "cell_type": "code",
   "execution_count": 177,
   "metadata": {},
   "outputs": [
    {
     "data": {
      "text/plain": [
       "\"\\nrf = RandomForestClassifier(n_estimators=100, random_state=42, max_features = 'sqrt', n_jobs=-1, verbose = 1)\\nrf.fit(X_train, y_train)\\ny_pred_rf = rf.predict(X_test)\\n#y_proba = tree.predict_proba(X_test)\\nprint(roc_auc_score(y_test, rf.predict_proba(X_test)[:, 1]))\\nprint(classification_report(y_test, y_pred_rf))\\n\""
      ]
     },
     "execution_count": 177,
     "metadata": {},
     "output_type": "execute_result"
    }
   ],
   "source": [
    "\"\"\"\n",
    "rf = RandomForestClassifier(n_estimators=100, random_state=42, max_features = 'sqrt', n_jobs=-1, verbose = 1)\n",
    "rf.fit(X_train, y_train)\n",
    "y_pred_rf = rf.predict(X_test)\n",
    "#y_proba = tree.predict_proba(X_test)\n",
    "print(roc_auc_score(y_test, rf.predict_proba(X_test)[:, 1]))\n",
    "print(classification_report(y_test, y_pred_rf))\n",
    "\"\"\"\n"
   ]
  },
  {
   "attachments": {},
   "cell_type": "markdown",
   "metadata": {},
   "source": [
    "### 500 trees"
   ]
  },
  {
   "cell_type": "code",
   "execution_count": 178,
   "metadata": {},
   "outputs": [
    {
     "data": {
      "text/plain": [
       "\"\\nrf = RandomForestClassifier(n_estimators=500, random_state=42, max_features = 'sqrt', n_jobs=-1, verbose = 1)\\nrf.fit(X_train, y_train)\\ny_pred_rf = rf.predict(X_test)\\n#y_proba = tree.predict_proba(X_test)\\nprint(roc_auc_score(y_test, rf.predict_proba(X_test)[:, 1]))\\nprint(classification_report(y_test, y_pred_rf))\\n\""
      ]
     },
     "execution_count": 178,
     "metadata": {},
     "output_type": "execute_result"
    }
   ],
   "source": [
    "'''\n",
    "rf = RandomForestClassifier(n_estimators=500, random_state=42, max_features = 'sqrt', n_jobs=-1, verbose = 1)\n",
    "rf.fit(X_train, y_train)\n",
    "y_pred_rf = rf.predict(X_test)\n",
    "#y_proba = tree.predict_proba(X_test)\n",
    "print(roc_auc_score(y_test, rf.predict_proba(X_test)[:, 1]))\n",
    "print(classification_report(y_test, y_pred_rf))\n",
    "'''\n"
   ]
  },
  {
   "attachments": {},
   "cell_type": "markdown",
   "metadata": {},
   "source": [
    "### 500 trees, sqrt features, class balancing"
   ]
  },
  {
   "cell_type": "code",
   "execution_count": 179,
   "metadata": {},
   "outputs": [
    {
     "data": {
      "text/plain": [
       "\"\\nrf = RandomForestClassifier(n_estimators=500, random_state=42, max_features = 'sqrt', n_jobs=-1, verbose = 1, class_weight='balanced')\\nrf.fit(X_train, y_train)\\ny_pred_rf = rf.predict(X_test)\\n#y_proba = tree.predict_proba(X_test)\\nprint(roc_auc_score(y_test, rf.predict_proba(X_test)[:, 1]))\\nprint(classification_report(y_test, y_pred_rf))\\n\""
      ]
     },
     "execution_count": 179,
     "metadata": {},
     "output_type": "execute_result"
    }
   ],
   "source": [
    "\"\"\"\n",
    "rf = RandomForestClassifier(n_estimators=500, random_state=42, max_features = 'sqrt', n_jobs=-1, verbose = 1, class_weight='balanced')\n",
    "rf.fit(X_train, y_train)\n",
    "y_pred_rf = rf.predict(X_test)\n",
    "#y_proba = tree.predict_proba(X_test)\n",
    "print(roc_auc_score(y_test, rf.predict_proba(X_test)[:, 1]))\n",
    "print(classification_report(y_test, y_pred_rf))\n",
    "\"\"\"\n"
   ]
  },
  {
   "attachments": {},
   "cell_type": "markdown",
   "metadata": {},
   "source": [
    "### 500 trees, all features"
   ]
  },
  {
   "cell_type": "code",
   "execution_count": 180,
   "metadata": {},
   "outputs": [
    {
     "data": {
      "text/plain": [
       "'\\nrf = RandomForestClassifier(n_estimators=500, random_state=42, max_features = None, n_jobs=-1, verbose = 1)\\nrf.fit(X_train, y_train)\\ny_pred_rf = rf.predict(X_test)\\n#y_proba = tree.predict_proba(X_test)\\nprint(roc_auc_score(y_test, rf.predict_proba(X_test)[:, 1]))\\nprint(classification_report(y_test, y_pred_rf))\\n'"
      ]
     },
     "execution_count": 180,
     "metadata": {},
     "output_type": "execute_result"
    }
   ],
   "source": [
    "\"\"\"\n",
    "rf = RandomForestClassifier(n_estimators=500, random_state=42, max_features = None, n_jobs=-1, verbose = 1)\n",
    "rf.fit(X_train, y_train)\n",
    "y_pred_rf = rf.predict(X_test)\n",
    "#y_proba = tree.predict_proba(X_test)\n",
    "print(roc_auc_score(y_test, rf.predict_proba(X_test)[:, 1]))\n",
    "print(classification_report(y_test, y_pred_rf))\n",
    "\"\"\"\n"
   ]
  },
  {
   "attachments": {},
   "cell_type": "markdown",
   "metadata": {},
   "source": [
    "### Drop some unimportant features"
   ]
  },
  {
   "cell_type": "code",
   "execution_count": 181,
   "metadata": {},
   "outputs": [
    {
     "data": {
      "text/plain": [
       "(array([ 0,  1,  2,  3,  4,  5,  6,  7,  8,  9, 10, 11, 12, 13, 14]),\n",
       " [Text(0, 0, 'disrict'),\n",
       "  Text(1, 0, 'client_catg'),\n",
       "  Text(2, 0, 'region'),\n",
       "  Text(3, 0, '1transactions_count'),\n",
       "  Text(4, 0, 'consommation_level_1_mean'),\n",
       "  Text(5, 0, 'consommation_level_2_mean'),\n",
       "  Text(6, 0, 'consommation_level_3_mean'),\n",
       "  Text(7, 0, 'consommation_level_4_mean'),\n",
       "  Text(8, 0, 'tarif_type_mean'),\n",
       "  Text(9, 0, 'counter_number_mean'),\n",
       "  Text(10, 0, 'counter_code_mean'),\n",
       "  Text(11, 0, 'reading_remarque_mean'),\n",
       "  Text(12, 0, 'counter_coefficient_mean'),\n",
       "  Text(13, 0, 'delta_index_mean'),\n",
       "  Text(14, 0, 'months_number_mean')])"
      ]
     },
     "execution_count": 181,
     "metadata": {},
     "output_type": "execute_result"
    },
    {
     "data": {
      "image/png": "[encoded data removed]",
      "text/plain": [
       "<Figure size 640x480 with 1 Axes>"
      ]
     },
     "metadata": {},
     "output_type": "display_data"
    }
   ],
   "source": [
    "sns.barplot(x=X_train.columns, y=rf.feature_importances_)\n",
    "plt.xticks(rotation=90)"
   ]
  },
  {
   "cell_type": "code",
   "execution_count": 182,
   "metadata": {},
   "outputs": [
    {
     "data": {
      "text/plain": [
       "(array([ 0,  1,  2,  3,  4,  5,  6,  7,  8,  9, 10, 11, 12, 13, 14]),\n",
       " [Text(0, 0, 'disrict'),\n",
       "  Text(1, 0, 'client_catg'),\n",
       "  Text(2, 0, 'region'),\n",
       "  Text(3, 0, '1transactions_count'),\n",
       "  Text(4, 0, 'consommation_level_1_mean'),\n",
       "  Text(5, 0, 'consommation_level_2_mean'),\n",
       "  Text(6, 0, 'consommation_level_3_mean'),\n",
       "  Text(7, 0, 'consommation_level_4_mean'),\n",
       "  Text(8, 0, 'tarif_type_mean'),\n",
       "  Text(9, 0, 'counter_number_mean'),\n",
       "  Text(10, 0, 'counter_code_mean'),\n",
       "  Text(11, 0, 'reading_remarque_mean'),\n",
       "  Text(12, 0, 'counter_coefficient_mean'),\n",
       "  Text(13, 0, 'delta_index_mean'),\n",
       "  Text(14, 0, 'months_number_mean')])"
      ]
     },
     "execution_count": 182,
     "metadata": {},
     "output_type": "execute_result"
    },
    {
     "data": {
      "image/png": "[encoded data removed]",
      "text/plain": [
       "<Figure size 640x480 with 1 Axes>"
      ]
     },
     "metadata": {},
     "output_type": "display_data"
    }
   ],
   "source": [
    "sns.barplot(x=X.columns, y=tree.feature_importances_)\n",
    "plt.xticks(rotation=90)"
   ]
  },
  {
   "cell_type": "code",
   "execution_count": 183,
   "metadata": {},
   "outputs": [
    {
     "data": {
      "text/plain": [
       "Index(['disrict', 'client_catg', 'region', '1transactions_count',\n",
       "       'consommation_level_1_mean', 'consommation_level_2_mean',\n",
       "       'consommation_level_3_mean', 'consommation_level_4_mean',\n",
       "       'tarif_type_mean', 'counter_number_mean', 'counter_code_mean',\n",
       "       'reading_remarque_mean', 'counter_coefficient_mean', 'delta_index_mean',\n",
       "       'months_number_mean'],\n",
       "      dtype='object')"
      ]
     },
     "execution_count": 183,
     "metadata": {},
     "output_type": "execute_result"
    }
   ],
   "source": [
    "X_train.columns"
   ]
  },
  {
   "attachments": {},
   "cell_type": "markdown",
   "metadata": {},
   "source": [
    "### Single tree with limited depth 3"
   ]
  },
  {
   "cell_type": "code",
   "execution_count": 184,
   "metadata": {},
   "outputs": [],
   "source": [
    "#X_train.drop(['disrict', 'client_catg', 'region', 'consommation_level_4_mean', 'tarif_type_mean'], axis=1, inplace=True)\n",
    "#X_test.drop(['disrict', 'client_catg', 'region', 'consommation_level_4_mean', 'tarif_type_mean'], axis=1, inplace=True)"
   ]
  },
  {
   "cell_type": "code",
   "execution_count": 193,
   "metadata": {},
   "outputs": [
    {
     "name": "stdout",
     "output_type": "stream",
     "text": [
      "0.713796643684591\n",
      "              precision    recall  f1-score   support\n",
      "\n",
      "         0.0       0.94      1.00      0.97     25586\n",
      "         1.0       0.00      0.00      0.00      1513\n",
      "\n",
      "    accuracy                           0.94     27099\n",
      "   macro avg       0.47      0.50      0.49     27099\n",
      "weighted avg       0.89      0.94      0.92     27099\n",
      "\n"
     ]
    }
   ],
   "source": [
    "#Decision Tree\n",
    "tree = DecisionTreeClassifier(criterion = \"gini\", max_depth=2) \n",
    "model_list.append(tree)\n",
    "tree.fit(X_train, y_train)\n",
    "y_pred_tree = tree.predict(X_test)\n",
    "#y_proba = tree.predict_proba(X_test)\n",
    "print(roc_auc_score(y_test, tree.predict_proba(X_test)[:, 1]))\n",
    "print(classification_report(y_test, y_pred_tree))"
   ]
  },
  {
   "cell_type": "code",
   "execution_count": 194,
   "metadata": {},
   "outputs": [
    {
     "data": {
      "image/png": "[encoded data removed]",
      "text/plain": [
       "<Figure size 640x480 with 1 Axes>"
      ]
     },
     "metadata": {},
     "output_type": "display_data"
    }
   ],
   "source": [
    "dectree_plot = plot_tree(tree, feature_names=X_train.columns, filled=True)"
   ]
  }
 ],
 "metadata": {
  "kernelspec": {
   "display_name": ".venv",
   "language": "python",
   "name": "python3"
  },
  "language_info": {
   "codemirror_mode": {
    "name": "ipython",
    "version": 3
   },
   "file_extension": ".py",
   "mimetype": "text/x-python",
   "name": "python",
   "nbconvert_exporter": "python",
   "pygments_lexer": "ipython3",
   "version": "3.9.8"
  },
  "orig_nbformat": 4
 },
 "nbformat": 4,
 "nbformat_minor": 2
}
