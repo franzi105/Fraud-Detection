{
 "cells": [
  {
   "attachments": {},
   "cell_type": "markdown",
   "metadata": {},
   "source": [
    "# Notebook 03: Model Testing and Optimization "
   ]
  },
  {
   "attachments": {},
   "cell_type": "markdown",
   "metadata": {},
   "source": [
    "## Aims"
   ]
  },
  {
   "attachments": {},
   "cell_type": "markdown",
   "metadata": {},
   "source": [
    "Test different basic models to determine best classification model for further optimisation.\n",
    "\n",
    "Weak learners that will be tested:\n",
    "* KNN\n",
    "* Decision Tree\n",
    "* Logistic Regression\n",
    "* SVM\n",
    "* Naive Bayes\n",
    "\n",
    "We will determine f1 score of each model and compare with baseline model."
   ]
  },
  {
   "attachments": {},
   "cell_type": "markdown",
   "metadata": {},
   "source": [
    "## Import libraries"
   ]
  },
  {
   "cell_type": "code",
   "execution_count": 4,
   "metadata": {},
   "outputs": [],
   "source": [
    "import pandas as pd\n",
    "import matplotlib.pyplot as plt\n",
    "import numpy as np\n",
    "from sklearn.model_selection import train_test_split\n",
    "from sklearn.metrics import roc_auc_score, classification_report\n",
    "import seaborn as sns\n",
    "from sklearn.ensemble import GradientBoostingClassifier\n",
    "import xgboost as xgb\n",
    "from sklearn.dummy import DummyClassifier\n",
    "from sklearn.linear_model import LogisticRegression\n",
    "from sklearn.neighbors import KNeighborsClassifier\n",
    "from sklearn.tree import DecisionTreeClassifier\n",
    "from sklearn.svm import SVC\n",
    "from sklearn.naive_bayes import GaussianNB\n",
    "from sklearn.ensemble import RandomForestClassifier\n",
    "from sklearn.tree import plot_tree\n",
    "from sklearn.ensemble import AdaBoostClassifier\n",
    "from logitboost import LogitBoost\n",
    "from xgboost import XGBClassifier\n",
    "from sklearn.metrics import confusion_matrix\n",
    "\n",
    "# for gridsearch\n",
    "from sklearn.model_selection import RandomizedSearchCV\n",
    "from sklearn.model_selection import GridSearchCV\n",
    "\n",
    "import warnings\n",
    "warnings.simplefilter('ignore')"
   ]
  },
  {
   "attachments": {},
   "cell_type": "markdown",
   "metadata": {},
   "source": [
    "## Load Data and Preprocessing"
   ]
  },
  {
   "attachments": {},
   "cell_type": "markdown",
   "metadata": {},
   "source": [
    "### Load data"
   ]
  },
  {
   "cell_type": "code",
   "execution_count": 5,
   "metadata": {},
   "outputs": [
    {
     "data": {
      "text/html": [
       "<div>\n",
       "<style scoped>\n",
       "    .dataframe tbody tr th:only-of-type {\n",
       "        vertical-align: middle;\n",
       "    }\n",
       "\n",
       "    .dataframe tbody tr th {\n",
       "        vertical-align: top;\n",
       "    }\n",
       "\n",
       "    .dataframe thead th {\n",
       "        text-align: right;\n",
       "    }\n",
       "</style>\n",
       "<table border=\"1\" class=\"dataframe\">\n",
       "  <thead>\n",
       "    <tr style=\"text-align: right;\">\n",
       "      <th></th>\n",
       "      <th>disrict</th>\n",
       "      <th>client_catg</th>\n",
       "      <th>region</th>\n",
       "      <th>target</th>\n",
       "      <th>1transactions_count</th>\n",
       "      <th>consommation_level_1_mean</th>\n",
       "      <th>consommation_level_2_mean</th>\n",
       "      <th>consommation_level_3_mean</th>\n",
       "      <th>consommation_level_4_mean</th>\n",
       "      <th>tarif_type_mean</th>\n",
       "      <th>counter_number_mean</th>\n",
       "      <th>counter_statue_mode</th>\n",
       "      <th>counter_code_mean</th>\n",
       "      <th>reading_remarque_mean</th>\n",
       "      <th>counter_coefficient_mean</th>\n",
       "      <th>delta_index_mean</th>\n",
       "      <th>months_number_mean</th>\n",
       "      <th>counter_type_mode</th>\n",
       "    </tr>\n",
       "  </thead>\n",
       "  <tbody>\n",
       "    <tr>\n",
       "      <th>0</th>\n",
       "      <td>60</td>\n",
       "      <td>11</td>\n",
       "      <td>101</td>\n",
       "      <td>0.0</td>\n",
       "      <td>35.0</td>\n",
       "      <td>352.400000</td>\n",
       "      <td>10.571429</td>\n",
       "      <td>0.000000</td>\n",
       "      <td>0.000000</td>\n",
       "      <td>11.000000</td>\n",
       "      <td>1.335667e+06</td>\n",
       "      <td>0</td>\n",
       "      <td>203.685714</td>\n",
       "      <td>6.971429</td>\n",
       "      <td>1.0</td>\n",
       "      <td>362.971429</td>\n",
       "      <td>4.628571</td>\n",
       "      <td>0</td>\n",
       "    </tr>\n",
       "    <tr>\n",
       "      <th>1</th>\n",
       "      <td>69</td>\n",
       "      <td>11</td>\n",
       "      <td>107</td>\n",
       "      <td>0.0</td>\n",
       "      <td>37.0</td>\n",
       "      <td>557.540541</td>\n",
       "      <td>0.000000</td>\n",
       "      <td>0.000000</td>\n",
       "      <td>0.000000</td>\n",
       "      <td>11.000000</td>\n",
       "      <td>6.789020e+05</td>\n",
       "      <td>0</td>\n",
       "      <td>203.000000</td>\n",
       "      <td>7.216216</td>\n",
       "      <td>1.0</td>\n",
       "      <td>557.540541</td>\n",
       "      <td>4.324324</td>\n",
       "      <td>0</td>\n",
       "    </tr>\n",
       "    <tr>\n",
       "      <th>2</th>\n",
       "      <td>62</td>\n",
       "      <td>11</td>\n",
       "      <td>301</td>\n",
       "      <td>0.0</td>\n",
       "      <td>18.0</td>\n",
       "      <td>798.611111</td>\n",
       "      <td>37.888889</td>\n",
       "      <td>0.000000</td>\n",
       "      <td>0.000000</td>\n",
       "      <td>11.000000</td>\n",
       "      <td>5.727650e+05</td>\n",
       "      <td>0</td>\n",
       "      <td>203.222222</td>\n",
       "      <td>7.055556</td>\n",
       "      <td>1.0</td>\n",
       "      <td>836.500000</td>\n",
       "      <td>6.444444</td>\n",
       "      <td>0</td>\n",
       "    </tr>\n",
       "    <tr>\n",
       "      <th>3</th>\n",
       "      <td>69</td>\n",
       "      <td>11</td>\n",
       "      <td>105</td>\n",
       "      <td>0.0</td>\n",
       "      <td>20.0</td>\n",
       "      <td>1.200000</td>\n",
       "      <td>0.000000</td>\n",
       "      <td>0.000000</td>\n",
       "      <td>0.000000</td>\n",
       "      <td>11.000000</td>\n",
       "      <td>2.078000e+03</td>\n",
       "      <td>0</td>\n",
       "      <td>413.000000</td>\n",
       "      <td>6.150000</td>\n",
       "      <td>1.0</td>\n",
       "      <td>1.200000</td>\n",
       "      <td>4.200000</td>\n",
       "      <td>0</td>\n",
       "    </tr>\n",
       "    <tr>\n",
       "      <th>4</th>\n",
       "      <td>62</td>\n",
       "      <td>11</td>\n",
       "      <td>303</td>\n",
       "      <td>0.0</td>\n",
       "      <td>14.0</td>\n",
       "      <td>663.714286</td>\n",
       "      <td>104.857143</td>\n",
       "      <td>117.357143</td>\n",
       "      <td>36.714286</td>\n",
       "      <td>11.000000</td>\n",
       "      <td>1.957500e+04</td>\n",
       "      <td>0</td>\n",
       "      <td>207.000000</td>\n",
       "      <td>8.857143</td>\n",
       "      <td>1.0</td>\n",
       "      <td>922.642857</td>\n",
       "      <td>3.714286</td>\n",
       "      <td>0</td>\n",
       "    </tr>\n",
       "    <tr>\n",
       "      <th>5</th>\n",
       "      <td>69</td>\n",
       "      <td>11</td>\n",
       "      <td>103</td>\n",
       "      <td>0.0</td>\n",
       "      <td>48.0</td>\n",
       "      <td>352.104167</td>\n",
       "      <td>10.437500</td>\n",
       "      <td>3.770833</td>\n",
       "      <td>0.000000</td>\n",
       "      <td>22.479167</td>\n",
       "      <td>8.149729e+05</td>\n",
       "      <td>0</td>\n",
       "      <td>124.625000</td>\n",
       "      <td>7.708333</td>\n",
       "      <td>1.0</td>\n",
       "      <td>366.312500</td>\n",
       "      <td>4.000000</td>\n",
       "      <td>0</td>\n",
       "    </tr>\n",
       "    <tr>\n",
       "      <th>6</th>\n",
       "      <td>62</td>\n",
       "      <td>11</td>\n",
       "      <td>309</td>\n",
       "      <td>0.0</td>\n",
       "      <td>40.0</td>\n",
       "      <td>280.025000</td>\n",
       "      <td>6.550000</td>\n",
       "      <td>0.000000</td>\n",
       "      <td>0.000000</td>\n",
       "      <td>25.500000</td>\n",
       "      <td>4.446350e+04</td>\n",
       "      <td>0</td>\n",
       "      <td>209.000000</td>\n",
       "      <td>7.975000</td>\n",
       "      <td>1.0</td>\n",
       "      <td>286.575000</td>\n",
       "      <td>3.700000</td>\n",
       "      <td>[0 1]</td>\n",
       "    </tr>\n",
       "    <tr>\n",
       "      <th>7</th>\n",
       "      <td>60</td>\n",
       "      <td>11</td>\n",
       "      <td>101</td>\n",
       "      <td>0.0</td>\n",
       "      <td>78.0</td>\n",
       "      <td>327.500000</td>\n",
       "      <td>0.923077</td>\n",
       "      <td>0.000000</td>\n",
       "      <td>0.000000</td>\n",
       "      <td>25.128205</td>\n",
       "      <td>5.904181e+05</td>\n",
       "      <td>0</td>\n",
       "      <td>106.538462</td>\n",
       "      <td>7.025641</td>\n",
       "      <td>1.0</td>\n",
       "      <td>328.423077</td>\n",
       "      <td>3.871795</td>\n",
       "      <td>0</td>\n",
       "    </tr>\n",
       "    <tr>\n",
       "      <th>8</th>\n",
       "      <td>62</td>\n",
       "      <td>11</td>\n",
       "      <td>301</td>\n",
       "      <td>0.0</td>\n",
       "      <td>2.0</td>\n",
       "      <td>112.500000</td>\n",
       "      <td>0.000000</td>\n",
       "      <td>0.000000</td>\n",
       "      <td>0.000000</td>\n",
       "      <td>11.000000</td>\n",
       "      <td>1.441290e+05</td>\n",
       "      <td>0</td>\n",
       "      <td>413.000000</td>\n",
       "      <td>7.500000</td>\n",
       "      <td>1.0</td>\n",
       "      <td>112.500000</td>\n",
       "      <td>4.000000</td>\n",
       "      <td>0</td>\n",
       "    </tr>\n",
       "    <tr>\n",
       "      <th>9</th>\n",
       "      <td>60</td>\n",
       "      <td>11</td>\n",
       "      <td>101</td>\n",
       "      <td>0.0</td>\n",
       "      <td>5.0</td>\n",
       "      <td>850.800000</td>\n",
       "      <td>1629.200000</td>\n",
       "      <td>320.000000</td>\n",
       "      <td>4882.000000</td>\n",
       "      <td>11.000000</td>\n",
       "      <td>5.868000e+05</td>\n",
       "      <td>0</td>\n",
       "      <td>467.000000</td>\n",
       "      <td>9.000000</td>\n",
       "      <td>1.0</td>\n",
       "      <td>7682.000000</td>\n",
       "      <td>4.000000</td>\n",
       "      <td>0</td>\n",
       "    </tr>\n",
       "  </tbody>\n",
       "</table>\n",
       "</div>"
      ],
      "text/plain": [
       "   disrict  client_catg  region  target  1transactions_count  \\\n",
       "0       60           11     101     0.0                 35.0   \n",
       "1       69           11     107     0.0                 37.0   \n",
       "2       62           11     301     0.0                 18.0   \n",
       "3       69           11     105     0.0                 20.0   \n",
       "4       62           11     303     0.0                 14.0   \n",
       "5       69           11     103     0.0                 48.0   \n",
       "6       62           11     309     0.0                 40.0   \n",
       "7       60           11     101     0.0                 78.0   \n",
       "8       62           11     301     0.0                  2.0   \n",
       "9       60           11     101     0.0                  5.0   \n",
       "\n",
       "   consommation_level_1_mean  consommation_level_2_mean  \\\n",
       "0                 352.400000                  10.571429   \n",
       "1                 557.540541                   0.000000   \n",
       "2                 798.611111                  37.888889   \n",
       "3                   1.200000                   0.000000   \n",
       "4                 663.714286                 104.857143   \n",
       "5                 352.104167                  10.437500   \n",
       "6                 280.025000                   6.550000   \n",
       "7                 327.500000                   0.923077   \n",
       "8                 112.500000                   0.000000   \n",
       "9                 850.800000                1629.200000   \n",
       "\n",
       "   consommation_level_3_mean  consommation_level_4_mean  tarif_type_mean  \\\n",
       "0                   0.000000                   0.000000        11.000000   \n",
       "1                   0.000000                   0.000000        11.000000   \n",
       "2                   0.000000                   0.000000        11.000000   \n",
       "3                   0.000000                   0.000000        11.000000   \n",
       "4                 117.357143                  36.714286        11.000000   \n",
       "5                   3.770833                   0.000000        22.479167   \n",
       "6                   0.000000                   0.000000        25.500000   \n",
       "7                   0.000000                   0.000000        25.128205   \n",
       "8                   0.000000                   0.000000        11.000000   \n",
       "9                 320.000000                4882.000000        11.000000   \n",
       "\n",
       "   counter_number_mean counter_statue_mode  counter_code_mean  \\\n",
       "0         1.335667e+06                   0         203.685714   \n",
       "1         6.789020e+05                   0         203.000000   \n",
       "2         5.727650e+05                   0         203.222222   \n",
       "3         2.078000e+03                   0         413.000000   \n",
       "4         1.957500e+04                   0         207.000000   \n",
       "5         8.149729e+05                   0         124.625000   \n",
       "6         4.446350e+04                   0         209.000000   \n",
       "7         5.904181e+05                   0         106.538462   \n",
       "8         1.441290e+05                   0         413.000000   \n",
       "9         5.868000e+05                   0         467.000000   \n",
       "\n",
       "   reading_remarque_mean  counter_coefficient_mean  delta_index_mean  \\\n",
       "0               6.971429                       1.0        362.971429   \n",
       "1               7.216216                       1.0        557.540541   \n",
       "2               7.055556                       1.0        836.500000   \n",
       "3               6.150000                       1.0          1.200000   \n",
       "4               8.857143                       1.0        922.642857   \n",
       "5               7.708333                       1.0        366.312500   \n",
       "6               7.975000                       1.0        286.575000   \n",
       "7               7.025641                       1.0        328.423077   \n",
       "8               7.500000                       1.0        112.500000   \n",
       "9               9.000000                       1.0       7682.000000   \n",
       "\n",
       "   months_number_mean counter_type_mode  \n",
       "0            4.628571                 0  \n",
       "1            4.324324                 0  \n",
       "2            6.444444                 0  \n",
       "3            4.200000                 0  \n",
       "4            3.714286                 0  \n",
       "5            4.000000                 0  \n",
       "6            3.700000             [0 1]  \n",
       "7            3.871795                 0  \n",
       "8            4.000000                 0  \n",
       "9            4.000000                 0  "
      ]
     },
     "execution_count": 5,
     "metadata": {},
     "output_type": "execute_result"
    }
   ],
   "source": [
    "df = pd.read_csv('data/train.csv')\n",
    "df.head(10)"
   ]
  },
  {
   "attachments": {},
   "cell_type": "markdown",
   "metadata": {},
   "source": [
    "### Preprocessing of Data"
   ]
  },
  {
   "cell_type": "code",
   "execution_count": 6,
   "metadata": {},
   "outputs": [
    {
     "data": {
      "text/html": [
       "<div>\n",
       "<style scoped>\n",
       "    .dataframe tbody tr th:only-of-type {\n",
       "        vertical-align: middle;\n",
       "    }\n",
       "\n",
       "    .dataframe tbody tr th {\n",
       "        vertical-align: top;\n",
       "    }\n",
       "\n",
       "    .dataframe thead th {\n",
       "        text-align: right;\n",
       "    }\n",
       "</style>\n",
       "<table border=\"1\" class=\"dataframe\">\n",
       "  <thead>\n",
       "    <tr style=\"text-align: right;\">\n",
       "      <th></th>\n",
       "      <th>disrict</th>\n",
       "      <th>client_catg</th>\n",
       "      <th>region</th>\n",
       "      <th>target</th>\n",
       "      <th>1transactions_count</th>\n",
       "      <th>consommation_level_1_mean</th>\n",
       "      <th>consommation_level_2_mean</th>\n",
       "      <th>consommation_level_3_mean</th>\n",
       "      <th>consommation_level_4_mean</th>\n",
       "      <th>tarif_type_mean</th>\n",
       "      <th>counter_number_mean</th>\n",
       "      <th>counter_code_mean</th>\n",
       "      <th>reading_remarque_mean</th>\n",
       "      <th>counter_coefficient_mean</th>\n",
       "      <th>delta_index_mean</th>\n",
       "      <th>months_number_mean</th>\n",
       "    </tr>\n",
       "  </thead>\n",
       "  <tbody>\n",
       "    <tr>\n",
       "      <th>0</th>\n",
       "      <td>60</td>\n",
       "      <td>11</td>\n",
       "      <td>101</td>\n",
       "      <td>0.0</td>\n",
       "      <td>35.0</td>\n",
       "      <td>352.400000</td>\n",
       "      <td>10.571429</td>\n",
       "      <td>0.000000</td>\n",
       "      <td>0.000000</td>\n",
       "      <td>11.000000</td>\n",
       "      <td>1.335667e+06</td>\n",
       "      <td>203.685714</td>\n",
       "      <td>6.971429</td>\n",
       "      <td>1.0</td>\n",
       "      <td>362.971429</td>\n",
       "      <td>4.628571</td>\n",
       "    </tr>\n",
       "    <tr>\n",
       "      <th>1</th>\n",
       "      <td>69</td>\n",
       "      <td>11</td>\n",
       "      <td>107</td>\n",
       "      <td>0.0</td>\n",
       "      <td>37.0</td>\n",
       "      <td>557.540541</td>\n",
       "      <td>0.000000</td>\n",
       "      <td>0.000000</td>\n",
       "      <td>0.000000</td>\n",
       "      <td>11.000000</td>\n",
       "      <td>6.789020e+05</td>\n",
       "      <td>203.000000</td>\n",
       "      <td>7.216216</td>\n",
       "      <td>1.0</td>\n",
       "      <td>557.540541</td>\n",
       "      <td>4.324324</td>\n",
       "    </tr>\n",
       "    <tr>\n",
       "      <th>2</th>\n",
       "      <td>62</td>\n",
       "      <td>11</td>\n",
       "      <td>301</td>\n",
       "      <td>0.0</td>\n",
       "      <td>18.0</td>\n",
       "      <td>798.611111</td>\n",
       "      <td>37.888889</td>\n",
       "      <td>0.000000</td>\n",
       "      <td>0.000000</td>\n",
       "      <td>11.000000</td>\n",
       "      <td>5.727650e+05</td>\n",
       "      <td>203.222222</td>\n",
       "      <td>7.055556</td>\n",
       "      <td>1.0</td>\n",
       "      <td>836.500000</td>\n",
       "      <td>6.444444</td>\n",
       "    </tr>\n",
       "    <tr>\n",
       "      <th>3</th>\n",
       "      <td>69</td>\n",
       "      <td>11</td>\n",
       "      <td>105</td>\n",
       "      <td>0.0</td>\n",
       "      <td>20.0</td>\n",
       "      <td>1.200000</td>\n",
       "      <td>0.000000</td>\n",
       "      <td>0.000000</td>\n",
       "      <td>0.000000</td>\n",
       "      <td>11.000000</td>\n",
       "      <td>2.078000e+03</td>\n",
       "      <td>413.000000</td>\n",
       "      <td>6.150000</td>\n",
       "      <td>1.0</td>\n",
       "      <td>1.200000</td>\n",
       "      <td>4.200000</td>\n",
       "    </tr>\n",
       "    <tr>\n",
       "      <th>4</th>\n",
       "      <td>62</td>\n",
       "      <td>11</td>\n",
       "      <td>303</td>\n",
       "      <td>0.0</td>\n",
       "      <td>14.0</td>\n",
       "      <td>663.714286</td>\n",
       "      <td>104.857143</td>\n",
       "      <td>117.357143</td>\n",
       "      <td>36.714286</td>\n",
       "      <td>11.000000</td>\n",
       "      <td>1.957500e+04</td>\n",
       "      <td>207.000000</td>\n",
       "      <td>8.857143</td>\n",
       "      <td>1.0</td>\n",
       "      <td>922.642857</td>\n",
       "      <td>3.714286</td>\n",
       "    </tr>\n",
       "    <tr>\n",
       "      <th>5</th>\n",
       "      <td>69</td>\n",
       "      <td>11</td>\n",
       "      <td>103</td>\n",
       "      <td>0.0</td>\n",
       "      <td>48.0</td>\n",
       "      <td>352.104167</td>\n",
       "      <td>10.437500</td>\n",
       "      <td>3.770833</td>\n",
       "      <td>0.000000</td>\n",
       "      <td>22.479167</td>\n",
       "      <td>8.149729e+05</td>\n",
       "      <td>124.625000</td>\n",
       "      <td>7.708333</td>\n",
       "      <td>1.0</td>\n",
       "      <td>366.312500</td>\n",
       "      <td>4.000000</td>\n",
       "    </tr>\n",
       "    <tr>\n",
       "      <th>6</th>\n",
       "      <td>62</td>\n",
       "      <td>11</td>\n",
       "      <td>309</td>\n",
       "      <td>0.0</td>\n",
       "      <td>40.0</td>\n",
       "      <td>280.025000</td>\n",
       "      <td>6.550000</td>\n",
       "      <td>0.000000</td>\n",
       "      <td>0.000000</td>\n",
       "      <td>25.500000</td>\n",
       "      <td>4.446350e+04</td>\n",
       "      <td>209.000000</td>\n",
       "      <td>7.975000</td>\n",
       "      <td>1.0</td>\n",
       "      <td>286.575000</td>\n",
       "      <td>3.700000</td>\n",
       "    </tr>\n",
       "    <tr>\n",
       "      <th>7</th>\n",
       "      <td>60</td>\n",
       "      <td>11</td>\n",
       "      <td>101</td>\n",
       "      <td>0.0</td>\n",
       "      <td>78.0</td>\n",
       "      <td>327.500000</td>\n",
       "      <td>0.923077</td>\n",
       "      <td>0.000000</td>\n",
       "      <td>0.000000</td>\n",
       "      <td>25.128205</td>\n",
       "      <td>5.904181e+05</td>\n",
       "      <td>106.538462</td>\n",
       "      <td>7.025641</td>\n",
       "      <td>1.0</td>\n",
       "      <td>328.423077</td>\n",
       "      <td>3.871795</td>\n",
       "    </tr>\n",
       "    <tr>\n",
       "      <th>8</th>\n",
       "      <td>62</td>\n",
       "      <td>11</td>\n",
       "      <td>301</td>\n",
       "      <td>0.0</td>\n",
       "      <td>2.0</td>\n",
       "      <td>112.500000</td>\n",
       "      <td>0.000000</td>\n",
       "      <td>0.000000</td>\n",
       "      <td>0.000000</td>\n",
       "      <td>11.000000</td>\n",
       "      <td>1.441290e+05</td>\n",
       "      <td>413.000000</td>\n",
       "      <td>7.500000</td>\n",
       "      <td>1.0</td>\n",
       "      <td>112.500000</td>\n",
       "      <td>4.000000</td>\n",
       "    </tr>\n",
       "    <tr>\n",
       "      <th>9</th>\n",
       "      <td>60</td>\n",
       "      <td>11</td>\n",
       "      <td>101</td>\n",
       "      <td>0.0</td>\n",
       "      <td>5.0</td>\n",
       "      <td>850.800000</td>\n",
       "      <td>1629.200000</td>\n",
       "      <td>320.000000</td>\n",
       "      <td>4882.000000</td>\n",
       "      <td>11.000000</td>\n",
       "      <td>5.868000e+05</td>\n",
       "      <td>467.000000</td>\n",
       "      <td>9.000000</td>\n",
       "      <td>1.0</td>\n",
       "      <td>7682.000000</td>\n",
       "      <td>4.000000</td>\n",
       "    </tr>\n",
       "  </tbody>\n",
       "</table>\n",
       "</div>"
      ],
      "text/plain": [
       "   disrict  client_catg  region  target  1transactions_count  \\\n",
       "0       60           11     101     0.0                 35.0   \n",
       "1       69           11     107     0.0                 37.0   \n",
       "2       62           11     301     0.0                 18.0   \n",
       "3       69           11     105     0.0                 20.0   \n",
       "4       62           11     303     0.0                 14.0   \n",
       "5       69           11     103     0.0                 48.0   \n",
       "6       62           11     309     0.0                 40.0   \n",
       "7       60           11     101     0.0                 78.0   \n",
       "8       62           11     301     0.0                  2.0   \n",
       "9       60           11     101     0.0                  5.0   \n",
       "\n",
       "   consommation_level_1_mean  consommation_level_2_mean  \\\n",
       "0                 352.400000                  10.571429   \n",
       "1                 557.540541                   0.000000   \n",
       "2                 798.611111                  37.888889   \n",
       "3                   1.200000                   0.000000   \n",
       "4                 663.714286                 104.857143   \n",
       "5                 352.104167                  10.437500   \n",
       "6                 280.025000                   6.550000   \n",
       "7                 327.500000                   0.923077   \n",
       "8                 112.500000                   0.000000   \n",
       "9                 850.800000                1629.200000   \n",
       "\n",
       "   consommation_level_3_mean  consommation_level_4_mean  tarif_type_mean  \\\n",
       "0                   0.000000                   0.000000        11.000000   \n",
       "1                   0.000000                   0.000000        11.000000   \n",
       "2                   0.000000                   0.000000        11.000000   \n",
       "3                   0.000000                   0.000000        11.000000   \n",
       "4                 117.357143                  36.714286        11.000000   \n",
       "5                   3.770833                   0.000000        22.479167   \n",
       "6                   0.000000                   0.000000        25.500000   \n",
       "7                   0.000000                   0.000000        25.128205   \n",
       "8                   0.000000                   0.000000        11.000000   \n",
       "9                 320.000000                4882.000000        11.000000   \n",
       "\n",
       "   counter_number_mean  counter_code_mean  reading_remarque_mean  \\\n",
       "0         1.335667e+06         203.685714               6.971429   \n",
       "1         6.789020e+05         203.000000               7.216216   \n",
       "2         5.727650e+05         203.222222               7.055556   \n",
       "3         2.078000e+03         413.000000               6.150000   \n",
       "4         1.957500e+04         207.000000               8.857143   \n",
       "5         8.149729e+05         124.625000               7.708333   \n",
       "6         4.446350e+04         209.000000               7.975000   \n",
       "7         5.904181e+05         106.538462               7.025641   \n",
       "8         1.441290e+05         413.000000               7.500000   \n",
       "9         5.868000e+05         467.000000               9.000000   \n",
       "\n",
       "   counter_coefficient_mean  delta_index_mean  months_number_mean  \n",
       "0                       1.0        362.971429            4.628571  \n",
       "1                       1.0        557.540541            4.324324  \n",
       "2                       1.0        836.500000            6.444444  \n",
       "3                       1.0          1.200000            4.200000  \n",
       "4                       1.0        922.642857            3.714286  \n",
       "5                       1.0        366.312500            4.000000  \n",
       "6                       1.0        286.575000            3.700000  \n",
       "7                       1.0        328.423077            3.871795  \n",
       "8                       1.0        112.500000            4.000000  \n",
       "9                       1.0       7682.000000            4.000000  "
      ]
     },
     "execution_count": 6,
     "metadata": {},
     "output_type": "execute_result"
    }
   ],
   "source": [
    "# dropping counter_statue_mode and counter_type_mode\n",
    "df_original = df\n",
    "df.drop(['counter_type_mode', 'counter_statue_mode'], axis=1, inplace=True)\n",
    "df.head(10)"
   ]
  },
  {
   "cell_type": "code",
   "execution_count": 7,
   "metadata": {},
   "outputs": [
    {
     "name": "stdout",
     "output_type": "stream",
     "text": [
      "<class 'pandas.core.frame.DataFrame'>\n",
      "RangeIndex: 135493 entries, 0 to 135492\n",
      "Data columns (total 16 columns):\n",
      " #   Column                     Non-Null Count   Dtype  \n",
      "---  ------                     --------------   -----  \n",
      " 0   disrict                    135493 non-null  int64  \n",
      " 1   client_catg                135493 non-null  int64  \n",
      " 2   region                     135493 non-null  int64  \n",
      " 3   target                     135493 non-null  float64\n",
      " 4   1transactions_count        128364 non-null  float64\n",
      " 5   consommation_level_1_mean  128364 non-null  float64\n",
      " 6   consommation_level_2_mean  128364 non-null  float64\n",
      " 7   consommation_level_3_mean  128364 non-null  float64\n",
      " 8   consommation_level_4_mean  128364 non-null  float64\n",
      " 9   tarif_type_mean            128364 non-null  float64\n",
      " 10  counter_number_mean        128364 non-null  float64\n",
      " 11  counter_code_mean          128364 non-null  float64\n",
      " 12  reading_remarque_mean      128364 non-null  float64\n",
      " 13  counter_coefficient_mean   128364 non-null  float64\n",
      " 14  delta_index_mean           128364 non-null  float64\n",
      " 15  months_number_mean         128364 non-null  float64\n",
      "dtypes: float64(13), int64(3)\n",
      "memory usage: 16.5 MB\n"
     ]
    }
   ],
   "source": [
    "df.info()"
   ]
  },
  {
   "attachments": {},
   "cell_type": "markdown",
   "metadata": {},
   "source": [
    "### Drop rows with missing values"
   ]
  },
  {
   "attachments": {},
   "cell_type": "markdown",
   "metadata": {},
   "source": [
    "Due to the merging of invoice data after 2005 and client data, there are some empty values for clients that did not have any transactions after 2005.\n",
    "We will drop these rows because they are not important for our modeling."
   ]
  },
  {
   "cell_type": "code",
   "execution_count": 8,
   "metadata": {},
   "outputs": [
    {
     "name": "stdout",
     "output_type": "stream",
     "text": [
      "<class 'pandas.core.frame.DataFrame'>\n",
      "Int64Index: 128364 entries, 0 to 135491\n",
      "Data columns (total 16 columns):\n",
      " #   Column                     Non-Null Count   Dtype  \n",
      "---  ------                     --------------   -----  \n",
      " 0   disrict                    128364 non-null  int64  \n",
      " 1   client_catg                128364 non-null  int64  \n",
      " 2   region                     128364 non-null  int64  \n",
      " 3   target                     128364 non-null  float64\n",
      " 4   1transactions_count        128364 non-null  float64\n",
      " 5   consommation_level_1_mean  128364 non-null  float64\n",
      " 6   consommation_level_2_mean  128364 non-null  float64\n",
      " 7   consommation_level_3_mean  128364 non-null  float64\n",
      " 8   consommation_level_4_mean  128364 non-null  float64\n",
      " 9   tarif_type_mean            128364 non-null  float64\n",
      " 10  counter_number_mean        128364 non-null  float64\n",
      " 11  counter_code_mean          128364 non-null  float64\n",
      " 12  reading_remarque_mean      128364 non-null  float64\n",
      " 13  counter_coefficient_mean   128364 non-null  float64\n",
      " 14  delta_index_mean           128364 non-null  float64\n",
      " 15  months_number_mean         128364 non-null  float64\n",
      "dtypes: float64(13), int64(3)\n",
      "memory usage: 16.6 MB\n"
     ]
    }
   ],
   "source": [
    "#dropping rows with empty values\n",
    "df.dropna(axis=0, inplace=True)\n",
    "df.info()"
   ]
  },
  {
   "attachments": {},
   "cell_type": "markdown",
   "metadata": {},
   "source": [
    "### Remove duplicated"
   ]
  },
  {
   "cell_type": "code",
   "execution_count": 9,
   "metadata": {},
   "outputs": [
    {
     "data": {
      "text/plain": [
       "False    128363\n",
       "True          1\n",
       "dtype: int64"
      ]
     },
     "execution_count": 9,
     "metadata": {},
     "output_type": "execute_result"
    }
   ],
   "source": [
    "#checking for duplicates\n",
    "df.duplicated().value_counts()"
   ]
  },
  {
   "cell_type": "code",
   "execution_count": 10,
   "metadata": {},
   "outputs": [],
   "source": [
    "#dropping duplicates\n",
    "df = df.drop_duplicates()"
   ]
  },
  {
   "cell_type": "code",
   "execution_count": 11,
   "metadata": {},
   "outputs": [
    {
     "data": {
      "text/plain": [
       "(128363, 16)"
      ]
     },
     "execution_count": 11,
     "metadata": {},
     "output_type": "execute_result"
    }
   ],
   "source": [
    "df.shape"
   ]
  },
  {
   "attachments": {},
   "cell_type": "markdown",
   "metadata": {},
   "source": [
    "### Train test split"
   ]
  },
  {
   "cell_type": "code",
   "execution_count": 12,
   "metadata": {},
   "outputs": [],
   "source": [
    "X=df.drop('target', axis=1)\n",
    "y=df.target\n",
    "X_train, X_test, y_train, y_test= train_test_split(X, y, stratify=y, test_size=0.2, random_state=42)"
   ]
  },
  {
   "attachments": {},
   "cell_type": "markdown",
   "metadata": {},
   "source": [
    "## Model tests"
   ]
  },
  {
   "cell_type": "code",
   "execution_count": 13,
   "metadata": {},
   "outputs": [],
   "source": [
    "#initializing dictionary to save results from each model for later comparison\n",
    "model_results = {}"
   ]
  },
  {
   "attachments": {},
   "cell_type": "markdown",
   "metadata": {},
   "source": [
    "### Baseline as Comparison"
   ]
  },
  {
   "cell_type": "code",
   "execution_count": 68,
   "metadata": {},
   "outputs": [
    {
     "name": "stdout",
     "output_type": "stream",
     "text": [
      "              precision    recall  f1-score   support\n",
      "\n",
      "         0.0       0.94      0.94      0.94     24160\n",
      "         1.0       0.06      0.06      0.06      1513\n",
      "\n",
      "    accuracy                           0.89     25673\n",
      "   macro avg       0.50      0.50      0.50     25673\n",
      "weighted avg       0.89      0.89      0.89     25673\n",
      "\n"
     ]
    },
    {
     "data": {
      "image/png": "[encoded data removed]",
      "text/plain": [
       "<Figure size 640x480 with 2 Axes>"
      ]
     },
     "metadata": {},
     "output_type": "display_data"
    }
   ],
   "source": [
    "#Baseline as comparison\n",
    "dummy_clf = DummyClassifier(strategy=\"stratified\", random_state=42)\n",
    "dummy_clf.fit(X_train, y_train)\n",
    "y_pred=dummy_clf.predict(X_test)\n",
    "print(classification_report(y_test, y_pred))\n",
    "\n",
    "# saving f1 score to dictionary for comparison\n",
    "report = classification_report(y_test, y_pred)\n",
    "model_results['baseline_model'] = classification_report(y_test, y_pred, output_dict=True)['1.0']['f1-score']\n",
    "\n",
    "#Error Analysis of best estimator from randomized search by checking confusion matrix\n",
    "cm=confusion_matrix(y_test, y_pred)\n",
    "sns.heatmap(cm, linewidths=.5, annot=True, cmap='coolwarm', fmt='.0f');"
   ]
  },
  {
   "attachments": {},
   "cell_type": "markdown",
   "metadata": {},
   "source": [
    "### Logistic Regression"
   ]
  },
  {
   "cell_type": "code",
   "execution_count": 15,
   "metadata": {},
   "outputs": [
    {
     "name": "stdout",
     "output_type": "stream",
     "text": [
      "              precision    recall  f1-score   support\n",
      "\n",
      "         0.0       0.00      0.00      0.00     24160\n",
      "         1.0       0.06      1.00      0.11      1513\n",
      "\n",
      "    accuracy                           0.06     25673\n",
      "   macro avg       0.03      0.50      0.06     25673\n",
      "weighted avg       0.00      0.06      0.01     25673\n",
      "\n"
     ]
    }
   ],
   "source": [
    "# Logistic Regression\n",
    "dict = {0:20, 1:2000}\n",
    "lr = LogisticRegression(class_weight=dict)\n",
    "lr.fit(X_train, y_train)\n",
    "y_pred_lr = lr.predict(X_test)\n",
    "print(classification_report(y_test, y_pred_lr))\n",
    "\n",
    "# saving f1 score to dictionary for comparison\n",
    "model_results['logistic_regression'] = classification_report(y_test, y_pred_lr, output_dict=True)['1.0']['f1-score']"
   ]
  },
  {
   "attachments": {},
   "cell_type": "markdown",
   "metadata": {},
   "source": [
    "### KNN"
   ]
  },
  {
   "cell_type": "code",
   "execution_count": 16,
   "metadata": {},
   "outputs": [
    {
     "name": "stdout",
     "output_type": "stream",
     "text": [
      "              precision    recall  f1-score   support\n",
      "\n",
      "         0.0       0.95      0.99      0.97     24160\n",
      "         1.0       0.43      0.11      0.18      1513\n",
      "\n",
      "    accuracy                           0.94     25673\n",
      "   macro avg       0.69      0.55      0.57     25673\n",
      "weighted avg       0.92      0.94      0.92     25673\n",
      "\n"
     ]
    }
   ],
   "source": [
    "#KNN\n",
    "knn = KNeighborsClassifier(n_neighbors=10, weights='distance', n_jobs=-1)\n",
    "knn.fit(X_train, y_train)\n",
    "y_pred_knn = knn.predict(X_test)\n",
    "print(classification_report(y_test, y_pred_knn))\n",
    "\n",
    "# saving f1 score to dictionary for comparison\n",
    "model_results['knn'] = classification_report(y_test, y_pred_knn, output_dict=True)['1.0']['f1-score']"
   ]
  },
  {
   "attachments": {},
   "cell_type": "markdown",
   "metadata": {},
   "source": [
    "### Decision Tree"
   ]
  },
  {
   "cell_type": "code",
   "execution_count": 17,
   "metadata": {},
   "outputs": [
    {
     "name": "stdout",
     "output_type": "stream",
     "text": [
      "              precision    recall  f1-score   support\n",
      "\n",
      "         0.0       0.95      0.94      0.95     24160\n",
      "         1.0       0.21      0.23      0.22      1513\n",
      "\n",
      "    accuracy                           0.90     25673\n",
      "   macro avg       0.58      0.59      0.58     25673\n",
      "weighted avg       0.91      0.90      0.90     25673\n",
      "\n"
     ]
    }
   ],
   "source": [
    "#Decision Tree\n",
    "tree = DecisionTreeClassifier(criterion = \"gini\") \n",
    "tree.fit(X_train, y_train)\n",
    "y_pred_tree = tree.predict(X_test)\n",
    "print(classification_report(y_test, y_pred_tree))\n",
    "\n",
    "# saving f1 score to dictionary for comparison\n",
    "model_results['tree'] = classification_report(y_test, y_pred_tree, output_dict=True)['1.0']['f1-score']"
   ]
  },
  {
   "cell_type": "code",
   "execution_count": 18,
   "metadata": {},
   "outputs": [
    {
     "data": {
      "text/plain": [
       "46"
      ]
     },
     "execution_count": 18,
     "metadata": {},
     "output_type": "execute_result"
    }
   ],
   "source": [
    "#Checking parameters of decision tree, e.g. depth of tree\n",
    "tree.get_depth()"
   ]
  },
  {
   "cell_type": "code",
   "execution_count": 19,
   "metadata": {},
   "outputs": [
    {
     "data": {
      "image/png": "[encoded data removed]",
      "text/plain": [
       "<Figure size 640x480 with 1 Axes>"
      ]
     },
     "metadata": {},
     "output_type": "display_data"
    }
   ],
   "source": [
    "#Checking for feature importance in decision tree modelling \n",
    "sns.barplot(x=X.columns, y=tree.feature_importances_)\n",
    "plt.xticks(rotation=90);"
   ]
  },
  {
   "attachments": {},
   "cell_type": "markdown",
   "metadata": {},
   "source": [
    "### SVM"
   ]
  },
  {
   "cell_type": "code",
   "execution_count": 20,
   "metadata": {},
   "outputs": [
    {
     "data": {
      "text/plain": [
       "\"vec = SVC(kernel='linear', C=1, gamma='auto')\\nvec.fit(X_train.iloc[:1500], y_train.iloc[:1500])\\ny_pred_vec = vec.predict(X_test)\\nprint(classification_report(y_test, y_pred_vec))\\n\\n# saving f1 score to dictionary for comparison\\nmodel_results['svm'] = classification_report(y_test, y_pred_vec, output_dict=True)['1.0']['f1-score'] \""
      ]
     },
     "execution_count": 20,
     "metadata": {},
     "output_type": "execute_result"
    }
   ],
   "source": [
    "#support vector machine\n",
    "#model takes more than 1hour to finish\n",
    "'''vec = SVC(kernel='linear', C=1, gamma='auto')\n",
    "vec.fit(X_train.iloc[:1500], y_train.iloc[:1500])\n",
    "y_pred_vec = vec.predict(X_test)\n",
    "print(classification_report(y_test, y_pred_vec))\n",
    "\n",
    "# saving f1 score to dictionary for comparison\n",
    "model_results['svm'] = classification_report(y_test, y_pred_vec, output_dict=True)['1.0']['f1-score'] '''"
   ]
  },
  {
   "attachments": {},
   "cell_type": "markdown",
   "metadata": {},
   "source": [
    "### Naive Bayes"
   ]
  },
  {
   "cell_type": "code",
   "execution_count": 21,
   "metadata": {},
   "outputs": [
    {
     "name": "stdout",
     "output_type": "stream",
     "text": [
      "              precision    recall  f1-score   support\n",
      "\n",
      "         0.0       0.94      1.00      0.97     24160\n",
      "         1.0       0.00      0.00      0.00      1513\n",
      "\n",
      "    accuracy                           0.94     25673\n",
      "   macro avg       0.47      0.50      0.48     25673\n",
      "weighted avg       0.89      0.94      0.91     25673\n",
      "\n"
     ]
    }
   ],
   "source": [
    "#Naive Bayes\n",
    "gnb = GaussianNB()\n",
    "gnb.fit(X_train, y_train)\n",
    "y_pred_gnb = gnb.predict(X_test)\n",
    "print(classification_report(y_test, y_pred_gnb))\n",
    "\n",
    "# saving f1 score to dictionary for comparison\n",
    "model_results['Naive_Bayes'] = classification_report(y_test, y_pred_gnb, output_dict=True)['1.0']['f1-score']"
   ]
  },
  {
   "cell_type": "code",
   "execution_count": 22,
   "metadata": {},
   "outputs": [
    {
     "data": {
      "text/plain": [
       "{'baseline_model': 0.055701179554390565,\n",
       " 'logistic_regression': 0.11130729051717797,\n",
       " 'knn': 0.1778242677824268,\n",
       " 'tree': 0.21636876763875826,\n",
       " 'Naive_Bayes': 0.0}"
      ]
     },
     "execution_count": 22,
     "metadata": {},
     "output_type": "execute_result"
    }
   ],
   "source": [
    "model_results"
   ]
  },
  {
   "attachments": {},
   "cell_type": "markdown",
   "metadata": {},
   "source": [
    "### Conclusion from weak learner modeling\n"
   ]
  },
  {
   "attachments": {},
   "cell_type": "markdown",
   "metadata": {},
   "source": [
    "* Decision tress perform best without many changes of parameters"
   ]
  },
  {
   "attachments": {},
   "cell_type": "markdown",
   "metadata": {},
   "source": [
    "## First model: Random Forest"
   ]
  },
  {
   "attachments": {},
   "cell_type": "markdown",
   "metadata": {},
   "source": [
    "Optimization of random forest by manually adjusting parameters"
   ]
  },
  {
   "attachments": {},
   "cell_type": "markdown",
   "metadata": {},
   "source": [
    "### 100 trees, sqrt features"
   ]
  },
  {
   "cell_type": "code",
   "execution_count": 23,
   "metadata": {},
   "outputs": [
    {
     "name": "stderr",
     "output_type": "stream",
     "text": [
      "[Parallel(n_jobs=-1)]: Using backend ThreadingBackend with 8 concurrent workers.\n",
      "[Parallel(n_jobs=-1)]: Done  34 tasks      | elapsed:    1.0s\n"
     ]
    },
    {
     "name": "stdout",
     "output_type": "stream",
     "text": [
      "              precision    recall  f1-score   support\n",
      "\n",
      "         0.0       0.95      1.00      0.97     24160\n",
      "         1.0       0.63      0.11      0.19      1513\n",
      "\n",
      "    accuracy                           0.94     25673\n",
      "   macro avg       0.79      0.55      0.58     25673\n",
      "weighted avg       0.93      0.94      0.92     25673\n",
      "\n"
     ]
    },
    {
     "name": "stderr",
     "output_type": "stream",
     "text": [
      "[Parallel(n_jobs=-1)]: Done 100 out of 100 | elapsed:    2.6s finished\n",
      "[Parallel(n_jobs=8)]: Using backend ThreadingBackend with 8 concurrent workers.\n",
      "[Parallel(n_jobs=8)]: Done  34 tasks      | elapsed:    0.0s\n",
      "[Parallel(n_jobs=8)]: Done 100 out of 100 | elapsed:    0.1s finished\n"
     ]
    }
   ],
   "source": [
    "#Random Forest\n",
    "rf = RandomForestClassifier(n_estimators=100, random_state=42, max_features = 'sqrt', n_jobs=-1, verbose = 1)\n",
    "rf.fit(X_train, y_train)\n",
    "y_pred_rf = rf.predict(X_test)\n",
    "print(classification_report(y_test, y_pred_rf))\n",
    "\n",
    "# saving f1 score to dictionary for comparison\n",
    "model_results['Random_Forest_100n,sqrt'] = classification_report(y_test, y_pred_rf, output_dict=True)['1.0']['f1-score']\n"
   ]
  },
  {
   "attachments": {},
   "cell_type": "markdown",
   "metadata": {},
   "source": [
    "### 500 trees"
   ]
  },
  {
   "cell_type": "code",
   "execution_count": 24,
   "metadata": {},
   "outputs": [
    {
     "name": "stderr",
     "output_type": "stream",
     "text": [
      "[Parallel(n_jobs=-1)]: Using backend ThreadingBackend with 8 concurrent workers.\n",
      "[Parallel(n_jobs=-1)]: Done  34 tasks      | elapsed:    1.0s\n",
      "[Parallel(n_jobs=-1)]: Done 184 tasks      | elapsed:    4.8s\n",
      "[Parallel(n_jobs=-1)]: Done 434 tasks      | elapsed:   11.2s\n",
      "[Parallel(n_jobs=-1)]: Done 500 out of 500 | elapsed:   12.8s finished\n",
      "[Parallel(n_jobs=8)]: Using backend ThreadingBackend with 8 concurrent workers.\n",
      "[Parallel(n_jobs=8)]: Done  34 tasks      | elapsed:    0.0s\n",
      "[Parallel(n_jobs=8)]: Done 184 tasks      | elapsed:    0.1s\n"
     ]
    },
    {
     "name": "stdout",
     "output_type": "stream",
     "text": [
      "              precision    recall  f1-score   support\n",
      "\n",
      "         0.0       0.95      1.00      0.97     24160\n",
      "         1.0       0.63      0.11      0.19      1513\n",
      "\n",
      "    accuracy                           0.94     25673\n",
      "   macro avg       0.79      0.55      0.58     25673\n",
      "weighted avg       0.93      0.94      0.92     25673\n",
      "\n"
     ]
    },
    {
     "name": "stderr",
     "output_type": "stream",
     "text": [
      "[Parallel(n_jobs=8)]: Done 434 tasks      | elapsed:    0.3s\n",
      "[Parallel(n_jobs=8)]: Done 500 out of 500 | elapsed:    0.3s finished\n"
     ]
    }
   ],
   "source": [
    "#Random forest with 500 estimators\n",
    "rf = RandomForestClassifier(n_estimators=500, random_state=42, max_features = 'sqrt', n_jobs=-1, verbose = 1)\n",
    "rf.fit(X_train, y_train)\n",
    "y_pred_rf = rf.predict(X_test)\n",
    "print(classification_report(y_test, y_pred_rf))\n",
    "\n",
    "# saving f1 score to dictionary for comparison\n",
    "model_results['Random_Forest_500n,sqrt'] = classification_report(y_test, y_pred_rf, output_dict=True)['1.0']['f1-score']"
   ]
  },
  {
   "attachments": {},
   "cell_type": "markdown",
   "metadata": {},
   "source": [
    "### 500 trees, sqrt features, class balancing"
   ]
  },
  {
   "cell_type": "code",
   "execution_count": 25,
   "metadata": {},
   "outputs": [
    {
     "name": "stderr",
     "output_type": "stream",
     "text": [
      "[Parallel(n_jobs=-1)]: Using backend ThreadingBackend with 8 concurrent workers.\n",
      "[Parallel(n_jobs=-1)]: Done  34 tasks      | elapsed:    0.9s\n",
      "[Parallel(n_jobs=-1)]: Done 184 tasks      | elapsed:    4.5s\n",
      "[Parallel(n_jobs=-1)]: Done 434 tasks      | elapsed:   10.6s\n",
      "[Parallel(n_jobs=-1)]: Done 500 out of 500 | elapsed:   12.2s finished\n",
      "[Parallel(n_jobs=8)]: Using backend ThreadingBackend with 8 concurrent workers.\n",
      "[Parallel(n_jobs=8)]: Done  34 tasks      | elapsed:    0.0s\n",
      "[Parallel(n_jobs=8)]: Done 184 tasks      | elapsed:    0.1s\n"
     ]
    },
    {
     "name": "stdout",
     "output_type": "stream",
     "text": [
      "              precision    recall  f1-score   support\n",
      "\n",
      "         0.0       0.95      1.00      0.97     24160\n",
      "         1.0       0.64      0.09      0.16      1513\n",
      "\n",
      "    accuracy                           0.94     25673\n",
      "   macro avg       0.79      0.54      0.57     25673\n",
      "weighted avg       0.93      0.94      0.92     25673\n",
      "\n"
     ]
    },
    {
     "name": "stderr",
     "output_type": "stream",
     "text": [
      "[Parallel(n_jobs=8)]: Done 434 tasks      | elapsed:    0.3s\n",
      "[Parallel(n_jobs=8)]: Done 500 out of 500 | elapsed:    0.4s finished\n"
     ]
    }
   ],
   "source": [
    "#Random forest with balanced class weight\n",
    "rf = RandomForestClassifier(n_estimators=500, random_state=42, max_features = 'sqrt', n_jobs=-1, verbose = 1, class_weight='balanced')\n",
    "rf.fit(X_train, y_train)\n",
    "y_pred_rf = rf.predict(X_test)\n",
    "print(classification_report(y_test, y_pred_rf))\n",
    "\n",
    "# saving f1 score to dictionary for comparison\n",
    "model_results['Random_Forest_500n,sqrt,weight'] = classification_report(y_test, y_pred_rf, output_dict=True)['1.0']['f1-score']\n"
   ]
  },
  {
   "attachments": {},
   "cell_type": "markdown",
   "metadata": {},
   "source": [
    "### 500 trees, all features"
   ]
  },
  {
   "cell_type": "code",
   "execution_count": 26,
   "metadata": {},
   "outputs": [
    {
     "name": "stderr",
     "output_type": "stream",
     "text": [
      "[Parallel(n_jobs=-1)]: Using backend ThreadingBackend with 8 concurrent workers.\n",
      "[Parallel(n_jobs=-1)]: Done  34 tasks      | elapsed:    4.8s\n",
      "[Parallel(n_jobs=-1)]: Done 184 tasks      | elapsed:   25.0s\n",
      "[Parallel(n_jobs=-1)]: Done 434 tasks      | elapsed:  1.0min\n",
      "[Parallel(n_jobs=-1)]: Done 500 out of 500 | elapsed:  1.2min finished\n",
      "[Parallel(n_jobs=8)]: Using backend ThreadingBackend with 8 concurrent workers.\n",
      "[Parallel(n_jobs=8)]: Done  34 tasks      | elapsed:    0.0s\n",
      "[Parallel(n_jobs=8)]: Done 184 tasks      | elapsed:    0.1s\n"
     ]
    },
    {
     "name": "stdout",
     "output_type": "stream",
     "text": [
      "              precision    recall  f1-score   support\n",
      "\n",
      "         0.0       0.95      0.99      0.97     24160\n",
      "         1.0       0.56      0.13      0.21      1513\n",
      "\n",
      "    accuracy                           0.94     25673\n",
      "   macro avg       0.75      0.56      0.59     25673\n",
      "weighted avg       0.92      0.94      0.93     25673\n",
      "\n"
     ]
    },
    {
     "name": "stderr",
     "output_type": "stream",
     "text": [
      "[Parallel(n_jobs=8)]: Done 434 tasks      | elapsed:    0.3s\n",
      "[Parallel(n_jobs=8)]: Done 500 out of 500 | elapsed:    0.4s finished\n"
     ]
    }
   ],
   "source": [
    "#Random Forest with unlimited feature number\n",
    "rf = RandomForestClassifier(n_estimators=500, random_state=42, max_features = None, n_jobs=-1, verbose = 1)\n",
    "rf.fit(X_train, y_train)\n",
    "y_pred_rf = rf.predict(X_test)\n",
    "print(classification_report(y_test, y_pred_rf))\n",
    "\n",
    "\n",
    "# saving f1 score to dictionary for comparison\n",
    "model_results['Random_Forest_500n,allfeat'] = classification_report(y_test, y_pred_rf, output_dict=True)['1.0']['f1-score']\n"
   ]
  },
  {
   "attachments": {},
   "cell_type": "markdown",
   "metadata": {},
   "source": [
    "### Drop some unimportant features"
   ]
  },
  {
   "attachments": {},
   "cell_type": "markdown",
   "metadata": {},
   "source": [
    "We tried to drop some features and checked if the f1 score changes. But we did not see any significant change. So we can skip this part."
   ]
  },
  {
   "cell_type": "code",
   "execution_count": 27,
   "metadata": {},
   "outputs": [],
   "source": [
    "#X_train.drop(['disrict', 'client_catg', 'region', 'consommation_level_4_mean', 'tarif_type_mean'], axis=1, inplace=True)\n",
    "#X_test.drop(['disrict', 'client_catg', 'region', 'consommation_level_4_mean', 'tarif_type_mean'], axis=1, inplace=True)"
   ]
  },
  {
   "attachments": {},
   "cell_type": "markdown",
   "metadata": {},
   "source": [
    "No drop in f1-score... but we still don't now if it is a good idea to keep on dropping further. "
   ]
  },
  {
   "attachments": {},
   "cell_type": "markdown",
   "metadata": {},
   "source": [
    "### Single tree with limited depth 3 to verify feature importance plot"
   ]
  },
  {
   "cell_type": "code",
   "execution_count": 28,
   "metadata": {},
   "outputs": [
    {
     "name": "stdout",
     "output_type": "stream",
     "text": [
      "              precision    recall  f1-score   support\n",
      "\n",
      "         0.0       0.94      1.00      0.97     24160\n",
      "         1.0       0.00      0.00      0.00      1513\n",
      "\n",
      "    accuracy                           0.94     25673\n",
      "   macro avg       0.47      0.50      0.48     25673\n",
      "weighted avg       0.89      0.94      0.91     25673\n",
      "\n"
     ]
    },
    {
     "data": {
      "image/png": "[encoded data removed]",
      "text/plain": [
       "<Figure size 640x480 with 1 Axes>"
      ]
     },
     "metadata": {},
     "output_type": "display_data"
    }
   ],
   "source": [
    "#Decision Tree\n",
    "#Single tree with limited depth 3 to verify feature importance plot\n",
    "tree = DecisionTreeClassifier(criterion = \"gini\", max_depth=2) \n",
    "tree.fit(X_train, y_train)\n",
    "y_pred_tree = tree.predict(X_test)\n",
    "print(classification_report(y_test, y_pred_tree))\n",
    "dectree_plot = plot_tree(tree, feature_names=X_train.columns, filled=True)"
   ]
  },
  {
   "attachments": {},
   "cell_type": "markdown",
   "metadata": {},
   "source": [
    "## Optimizing our first model: Decision Tree"
   ]
  },
  {
   "attachments": {},
   "cell_type": "markdown",
   "metadata": {},
   "source": [
    "We tried to first optimize the hyperparameters for a single decision tree to use them in a next step for random forest.\n",
    "However, not much improvement could be generated. A single decision tree tends to overfit too fast."
   ]
  },
  {
   "cell_type": "code",
   "execution_count": 29,
   "metadata": {},
   "outputs": [
    {
     "data": {
      "text/plain": [
       "\"params_dict = {\\n    'criterion' : ['gini', 'entropy'], \\n    'max_depth': [10, 20, 30, 40, 50, None],\\n    'max_features': ['auto', 'sqrt'],\\n    'min_samples_leaf': [5, 10, 15],\\n    'min_samples_split': [20, 50, 100],\\n}\\n\\nrgs = RandomizedSearchCV(estimator=tree, param_distributions=params_dict, n_iter=50, scoring='f1', n_jobs=-1, random_state=16, return_train_score=True, verbose=2)\\nrgs.fit(X_train, y_train)\\nrgs.best_estimator_, rgs.best_score_\""
      ]
     },
     "execution_count": 29,
     "metadata": {},
     "output_type": "execute_result"
    }
   ],
   "source": [
    "#First initial randomized search for hyperparameter tuning  on single decision tree\n",
    "'''params_dict = {\n",
    "    'criterion' : ['gini', 'entropy'], \n",
    "    'max_depth': [10, 20, 30, 40, 50, None],\n",
    "    'max_features': ['auto', 'sqrt'],\n",
    "    'min_samples_leaf': [5, 10, 15],\n",
    "    'min_samples_split': [20, 50, 100],\n",
    "}\n",
    "\n",
    "rgs = RandomizedSearchCV(estimator=tree, param_distributions=params_dict, n_iter=50, scoring='f1', n_jobs=-1, random_state=16, return_train_score=True, verbose=2)\n",
    "rgs.fit(X_train, y_train)\n",
    "rgs.best_estimator_, rgs.best_score_'''\n"
   ]
  },
  {
   "attachments": {},
   "cell_type": "markdown",
   "metadata": {},
   "source": [
    "Optimized parameters from randomizedsearch on single decision tree:\n",
    "* random_state=42\n",
    "* max_depth=30\n",
    "* max_features='sqrt'\n",
    "* min_samples_leaf=5\n",
    "* min_samples_split=20, n_jobs=-1, verbose = 1"
   ]
  },
  {
   "attachments": {},
   "cell_type": "markdown",
   "metadata": {},
   "source": [
    "### Further opimization: Random Forest"
   ]
  },
  {
   "cell_type": "code",
   "execution_count": 30,
   "metadata": {},
   "outputs": [
    {
     "name": "stderr",
     "output_type": "stream",
     "text": [
      "[Parallel(n_jobs=-1)]: Using backend ThreadingBackend with 8 concurrent workers.\n",
      "[Parallel(n_jobs=-1)]: Done  34 tasks      | elapsed:    1.2s\n",
      "[Parallel(n_jobs=-1)]: Done 100 out of 100 | elapsed:    2.9s finished\n",
      "[Parallel(n_jobs=8)]: Using backend ThreadingBackend with 8 concurrent workers.\n",
      "[Parallel(n_jobs=8)]: Done  34 tasks      | elapsed:    0.0s\n",
      "[Parallel(n_jobs=8)]: Done 100 out of 100 | elapsed:    0.1s finished\n"
     ]
    },
    {
     "name": "stdout",
     "output_type": "stream",
     "text": [
      "              precision    recall  f1-score   support\n",
      "\n",
      "         0.0       0.95      1.00      0.97     24160\n",
      "         1.0       0.65      0.10      0.17      1513\n",
      "\n",
      "    accuracy                           0.94     25673\n",
      "   macro avg       0.80      0.55      0.57     25673\n",
      "weighted avg       0.93      0.94      0.92     25673\n",
      "\n"
     ]
    }
   ],
   "source": [
    "#Optimization of RandomForest with optimized parameters from RandomizedSearch for single decision tree\n",
    "rf = RandomForestClassifier(n_estimators=100, random_state=42, max_depth=30, max_features='sqrt', min_samples_leaf=5,\n",
    "                        min_samples_split=20, n_jobs=-1, verbose = 1)\n",
    "rf.fit(X_train, y_train)\n",
    "y_pred_rf = rf.predict(X_test)\n",
    "print(classification_report(y_test, y_pred_rf))\n",
    "\n",
    "# saving f1 score to dictionary for comparison\n",
    "model_results['Random_Forest_100n,sqrt,optparam'] = classification_report(y_test, y_pred_rf, output_dict=True)['1.0']['f1-score']"
   ]
  },
  {
   "attachments": {},
   "cell_type": "markdown",
   "metadata": {},
   "source": [
    "Optimized parameters from single decision tree did not improve randomforest outcome.\n",
    "So we will run a randomizedSearch on Random Forest."
   ]
  },
  {
   "attachments": {},
   "cell_type": "markdown",
   "metadata": {},
   "source": [
    "### RandomizedSearchCV on Random Forest"
   ]
  },
  {
   "cell_type": "code",
   "execution_count": 31,
   "metadata": {},
   "outputs": [
    {
     "data": {
      "text/plain": [
       "\"params_dict = {\\n    'n_estimators' : [50, 100, 500], \\n    'criterion' : ['gini', 'entropy'], \\n    'max_depth': [10, 20, 30, 40, 50, None],\\n    'max_features': ['auto', 'sqrt'],\\n    'min_samples_leaf': [5, 10, 15],\\n    'min_samples_split': [20, 50, 100],\\n}\\n\\nrgs = RandomizedSearchCV(estimator=rf, param_distributions=params_dict, n_iter=50, scoring='f1', n_jobs=-1, random_state=16, return_train_score=True, verbose=2)\\nrgs.fit(X_train, y_train)\\nrgs.best_estimator_, rgs.best_score_\""
      ]
     },
     "execution_count": 31,
     "metadata": {},
     "output_type": "execute_result"
    }
   ],
   "source": [
    "# Running hyperparameter tuning on Random Forest\n",
    "'''params_dict = {\n",
    "    'n_estimators' : [50, 100, 500], \n",
    "    'criterion' : ['gini', 'entropy'], \n",
    "    'max_depth': [10, 20, 30, 40, 50, None],\n",
    "    'max_features': ['auto', 'sqrt'],\n",
    "    'min_samples_leaf': [5, 10, 15],\n",
    "    'min_samples_split': [20, 50, 100],\n",
    "}\n",
    "\n",
    "rgs = RandomizedSearchCV(estimator=rf, param_distributions=params_dict, n_iter=50, scoring='f1', n_jobs=-1, random_state=16, return_train_score=True, verbose=2)\n",
    "rgs.fit(X_train, y_train)\n",
    "rgs.best_estimator_, rgs.best_score_'''"
   ]
  },
  {
   "attachments": {},
   "cell_type": "markdown",
   "metadata": {},
   "source": [
    "best parameters of randomizedSearch for Random Forest: \n",
    "* criterion='entropy'\n",
    "* max_depth=30\n",
    "* max_features='sqrt'\n",
    "* min_samples_leaf=10\n",
    "* min_samples_split=20\n",
    "* n_estimators=50, n_jobs=-1, random_state=42, verbose=1)\n",
    "-----------\n",
    "\n",
    "\n",
    "* f1 score = 0.1483850191554762\n",
    "* It took 23 min to run. "
   ]
  },
  {
   "cell_type": "code",
   "execution_count": 35,
   "metadata": {},
   "outputs": [],
   "source": [
    "# saving f1 score to dictionary for comparison\n",
    "model_results['Random_Forest_RandomSearch'] = 0.1483850191554762"
   ]
  },
  {
   "attachments": {},
   "cell_type": "markdown",
   "metadata": {},
   "source": [
    "Further optimization of the random forest could not improve the f1 score.\n",
    "We will try to include boosting algorithms to improve the predictions."
   ]
  },
  {
   "attachments": {},
   "cell_type": "markdown",
   "metadata": {},
   "source": [
    "## Boosting "
   ]
  },
  {
   "cell_type": "markdown",
   "metadata": {},
   "source": []
  },
  {
   "attachments": {},
   "cell_type": "markdown",
   "metadata": {},
   "source": [
    "#### AdaBoost"
   ]
  },
  {
   "cell_type": "code",
   "execution_count": 38,
   "metadata": {},
   "outputs": [
    {
     "name": "stdout",
     "output_type": "stream",
     "text": [
      "              precision    recall  f1-score   support\n",
      "\n",
      "         0.0       0.94      1.00      0.97     24160\n",
      "         1.0       0.41      0.05      0.08      1513\n",
      "\n",
      "    accuracy                           0.94     25673\n",
      "   macro avg       0.67      0.52      0.53     25673\n",
      "weighted avg       0.91      0.94      0.92     25673\n",
      "\n"
     ]
    }
   ],
   "source": [
    "#Test of AdaBoost Classifier\n",
    "model=AdaBoostClassifier()\n",
    "model.fit(X_train, y_train)\n",
    "y_pred_ada=model.predict(X_test)\n",
    "print(classification_report(y_test, y_pred_ada))\n",
    "\n",
    "# saving f1 score to dictionary for comparison\n",
    "model_results['AdaBoost'] = classification_report(y_test, y_pred_ada, output_dict=True)['1.0']['f1-score']"
   ]
  },
  {
   "attachments": {},
   "cell_type": "markdown",
   "metadata": {},
   "source": [
    "#### Logit Boost"
   ]
  },
  {
   "cell_type": "code",
   "execution_count": 39,
   "metadata": {},
   "outputs": [
    {
     "name": "stdout",
     "output_type": "stream",
     "text": [
      "              precision    recall  f1-score   support\n",
      "\n",
      "         0.0       0.95      0.99      0.97     24160\n",
      "         1.0       0.57      0.12      0.20      1513\n",
      "\n",
      "    accuracy                           0.94     25673\n",
      "   macro avg       0.76      0.56      0.59     25673\n",
      "weighted avg       0.93      0.94      0.93     25673\n",
      "\n"
     ]
    }
   ],
   "source": [
    "#Test of Logit Boost\n",
    "model=LogitBoost()\n",
    "model.fit(X_train, y_train)\n",
    "y_pred_logit=model.predict(X_test)\n",
    "print(classification_report(y_test, y_pred_logit))\n",
    "\n",
    "# saving f1 score to dictionary for comparison\n",
    "model_results['LogitBoost'] = classification_report(y_test, y_pred_logit, output_dict=True)['1.0']['f1-score']"
   ]
  },
  {
   "attachments": {},
   "cell_type": "markdown",
   "metadata": {},
   "source": [
    "#### XGBoost"
   ]
  },
  {
   "cell_type": "code",
   "execution_count": 37,
   "metadata": {},
   "outputs": [
    {
     "name": "stdout",
     "output_type": "stream",
     "text": [
      "              precision    recall  f1-score   support\n",
      "\n",
      "         0.0       0.95      0.99      0.97     24160\n",
      "         1.0       0.55      0.14      0.23      1513\n",
      "\n",
      "    accuracy                           0.94     25673\n",
      "   macro avg       0.75      0.57      0.60     25673\n",
      "weighted avg       0.92      0.94      0.93     25673\n",
      "\n"
     ]
    }
   ],
   "source": [
    "#XGBoost Classifier\n",
    "model = XGBClassifier()\n",
    "model.fit(X_train, y_train)\n",
    "y_pred_xgb=model.predict(X_test)\n",
    "print(classification_report(y_test, y_pred_xgb))\n",
    "\n",
    "# saving f1 score to dictionary for comparison\n",
    "model_results['XGBoost'] = classification_report(y_test, y_pred_xgb, output_dict=True)['1.0']['f1-score']"
   ]
  },
  {
   "attachments": {},
   "cell_type": "markdown",
   "metadata": {},
   "source": [
    "XGBoost classifier performed best so far. So we further tuned the hyperparameters by running Randomized search."
   ]
  },
  {
   "attachments": {},
   "cell_type": "markdown",
   "metadata": {},
   "source": [
    "### Randomized Search for XGBoost Classifier"
   ]
  },
  {
   "cell_type": "code",
   "execution_count": 44,
   "metadata": {},
   "outputs": [
    {
     "data": {
      "text/plain": [
       "'params = { \\'max_depth\\': [3, 5, 6, 10, 15, 20],\\n           \\'learning_rate\\': [0.01, 0.1, 0.2, 0.3],\\n           \\'subsample\\': np.arange(0.5, 1.0, 0.1),\\n           \\'colsample_bytree\\': np.arange(0.4, 1.0, 0.1),\\n           \\'colsample_bylevel\\': np.arange(0.4, 1.0, 0.1),\\n           \\'n_estimators\\': [100, 500]}\\nclf = RandomizedSearchCV(estimator=XGBClassifier(),\\n                         param_distributions=params,\\n                         scoring=\\'f1\\',\\n                         n_iter=50,\\n                         n_jobs=-1,\\n                         verbose=1)\\nclf.fit(X_train, y_train)\\nprint(\"Best parameters:\", clf.best_params_)\\nprint(\"f1\", clf.best_score_)'"
      ]
     },
     "execution_count": 44,
     "metadata": {},
     "output_type": "execute_result"
    }
   ],
   "source": [
    "#Randomized Search for XGBoost Classifier\n",
    "'''params = { 'max_depth': [3, 5, 6, 10, 15, 20],\n",
    "           'learning_rate': [0.01, 0.1, 0.2, 0.3],\n",
    "           'subsample': np.arange(0.5, 1.0, 0.1),\n",
    "           'colsample_bytree': np.arange(0.4, 1.0, 0.1),\n",
    "           'colsample_bylevel': np.arange(0.4, 1.0, 0.1),\n",
    "           'n_estimators': [100, 500]}\n",
    "clf = RandomizedSearchCV(estimator=XGBClassifier(),\n",
    "                         param_distributions=params,\n",
    "                         scoring='f1',\n",
    "                         n_iter=50,\n",
    "                         n_jobs=-1,\n",
    "                         verbose=1)\n",
    "clf.fit(X_train, y_train)\n",
    "print(\"Best parameters:\", clf.best_params_)\n",
    "print(\"f1\", clf.best_score_)'''"
   ]
  },
  {
   "attachments": {},
   "cell_type": "markdown",
   "metadata": {},
   "source": [
    "Best Parameters for XGBoost:\n",
    "* 'subsample': 0.7999999999999999\n",
    "* 'n_estimators': 500\n",
    "* 'max_depth': 5\n",
    "* 'learning_rate': 0.3\n",
    "* 'colsample_bytree': 0.8999999999999999\n",
    "* 'colsample_bylevel': 0.4\n",
    "-----\n",
    "f1 score = 0.23321718823006926"
   ]
  },
  {
   "cell_type": "code",
   "execution_count": 45,
   "metadata": {},
   "outputs": [],
   "source": [
    "# saving f1 score to dictionary for comparison\n",
    "model_results['XGBoost_RandomSearch'] = 0.23321718823006926"
   ]
  },
  {
   "attachments": {},
   "cell_type": "markdown",
   "metadata": {},
   "source": [
    "#### Optimized Parameters for XGB Classifier - final model"
   ]
  },
  {
   "cell_type": "code",
   "execution_count": 61,
   "metadata": {},
   "outputs": [
    {
     "name": "stdout",
     "output_type": "stream",
     "text": [
      "              precision    recall  f1-score   support\n",
      "\n",
      "         0.0       0.95      0.99      0.97     24160\n",
      "         1.0       0.52      0.15      0.24      1513\n",
      "\n",
      "    accuracy                           0.94     25673\n",
      "   macro avg       0.73      0.57      0.60     25673\n",
      "weighted avg       0.92      0.94      0.93     25673\n",
      "\n"
     ]
    },
    {
     "data": {
      "image/png": "[encoded data removed]",
      "text/plain": [
       "<Figure size 640x480 with 2 Axes>"
      ]
     },
     "metadata": {},
     "output_type": "display_data"
    }
   ],
   "source": [
    "#model with best parameters from Randomized Search\n",
    "best_model = XGBClassifier(subsample= 0.7999999999999999, \n",
    "        n_estimators= 500, \n",
    "        max_depth= 5,\n",
    "        learning_rate= 0.3,\n",
    "        colsample_bytree= 0.8999999999999999,\n",
    "        colsample_bylevel= 0.4)\n",
    "best_model.fit(X_train, y_train)\n",
    "y_pred_best=best_model.predict(X_test)\n",
    "\n",
    "# saving f1 score to dictionary for comparison\n",
    "model_results['XGBoost_RandomSearch'] = classification_report(y_test, y_pred_best, output_dict=True)['1.0']['f1-score']\n",
    "\n",
    "#Error Analysis of best estimator from randomized search by checking confusion matrix\n",
    "cm=confusion_matrix(y_test, y_pred_best)\n",
    "print(classification_report(y_test, y_pred_best))\n",
    "sns.heatmap(cm, linewidths=.5, annot=True, cmap='coolwarm', fmt='.0f');\n"
   ]
  },
  {
   "attachments": {},
   "cell_type": "markdown",
   "metadata": {},
   "source": [
    "## Final Comparison of all tested models"
   ]
  },
  {
   "cell_type": "code",
   "execution_count": 56,
   "metadata": {},
   "outputs": [
    {
     "name": "stdout",
     "output_type": "stream",
     "text": [
      "baseline_model : 0.055701179554390565\n",
      "logistic_regression : 0.11130729051717797\n",
      "knn : 0.1778242677824268\n",
      "tree : 0.21636876763875826\n",
      "Naive_Bayes : 0.0\n",
      "Random_Forest_100n,sqrt : 0.19058295964125563\n",
      "Random_Forest_500n,sqrt : 0.18897637795275593\n",
      "Random_Forest_500n,sqrt,weight : 0.1606936416184971\n",
      "Random_Forest_500n,allfeat : 0.2058189655172414\n",
      "Random_Forest_100n,sqrt,optparam : 0.17401259301659985\n",
      "Random_Forest_RandomSearch : 0.1483850191554762\n",
      "XGBoost : 0.22629649030906238\n",
      "AdaBoost : 0.0819964349376114\n",
      "LogitBoost : 0.2016348773841962\n",
      "XGBoost_RandomSearch : 0.23321718823006926\n"
     ]
    }
   ],
   "source": [
    "#final comparison of f1 score of all models tested\n",
    "for model, f1 in model_results.items():\n",
    "    print('{} : {}'.format(model, f1))"
   ]
  },
  {
   "cell_type": "code",
   "execution_count": 67,
   "metadata": {},
   "outputs": [
    {
     "data": {
      "image/png": "[encoded data removed]",
      "text/plain": [
       "<Figure size 640x480 with 1 Axes>"
      ]
     },
     "metadata": {},
     "output_type": "display_data"
    }
   ],
   "source": [
    "# PLotting f1 score for tested models\n",
    "plt.bar(range(len(model_results)), model_results.values(), align='center')\n",
    "plt.xticks(range(len(model_results)), list(model_results.keys()), rotation=90)\n",
    "plt.ylabel('f1 score')\n",
    "plt.show()"
   ]
  },
  {
   "attachments": {},
   "cell_type": "markdown",
   "metadata": {},
   "source": [
    "## Exporting final model"
   ]
  }
 ],
 "metadata": {
  "kernelspec": {
   "display_name": ".venv",
   "language": "python",
   "name": "python3"
  },
  "language_info": {
   "codemirror_mode": {
    "name": "ipython",
    "version": 3
   },
   "file_extension": ".py",
   "mimetype": "text/x-python",
   "name": "python",
   "nbconvert_exporter": "python",
   "pygments_lexer": "ipython3",
   "version": "3.9.8"
  },
  "orig_nbformat": 4
 },
 "nbformat": 4,
 "nbformat_minor": 2
}
