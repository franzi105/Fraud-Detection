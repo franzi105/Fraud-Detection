{
  "cells": [
    {
      "attachments": {},
      "cell_type": "markdown",
      "metadata": {
        "id": "RqLQ-hbyb5jH"
      },
      "source": [
        "# Fraud Detection in Electricity and Gas Consumption Challenge\n",
        "# Notebook 01: Data Preparation\n",
        "\n",
        "This is a machine learning project based on the Zindi challenge [here](https://zindi.africa/learn/fraud-detection-in-electricity-and-gas-consumption-challenge-tutorial).\n",
        "\n",
        "This first notebook covers:\n",
        "\n",
        "- Loading the data and carrying out simple EDA to understand the data and prepare for modelling \n",
        "- Preprocessing the data and feature engineering \n",
        "- Merging invoice and client data\n",
        "- Saving the data as csv as basis for other notebooks\n"
      ]
    },
    {
      "attachments": {},
      "cell_type": "markdown",
      "metadata": {
        "id": "Jy_tdygDJm-k"
      },
      "source": [
        "# Data Preparation"
      ]
    },
    {
      "attachments": {},
      "cell_type": "markdown",
      "metadata": {
        "id": "GKfpS4UVJ4Wj"
      },
      "source": [
        "## Import Libraries"
      ]
    },
    {
      "cell_type": "code",
      "execution_count": 3,
      "metadata": {
        "id": "OJMD_I3EJWP4"
      },
      "outputs": [],
      "source": [
        "import pandas as pd\n",
        "import matplotlib.pyplot as plt\n",
        "#import lightgbm\n",
        "#from lightgbm import LGBMClassifier\n",
        "\n",
        "import warnings\n",
        "warnings.simplefilter('ignore')"
      ]
    },
    {
      "attachments": {},
      "cell_type": "markdown",
      "metadata": {
        "id": "exEGyf6vJ_4T"
      },
      "source": [
        "## Read the Data"
      ]
    },
    {
      "cell_type": "code",
      "execution_count": 4,
      "metadata": {
        "id": "I2oIx7IuKCJm"
      },
      "outputs": [],
      "source": [
        "client_train = pd.read_csv('data/train/client_train.csv', low_memory=False)\n",
        "invoice_train = pd.read_csv('data/train/invoice_train.csv', low_memory=False)\n",
        "\n",
        "client_test = pd.read_csv(f'data/test/client_test.csv', low_memory=False)\n",
        "invoice_test = pd.read_csv('data/test/invoice_test.csv', low_memory=False)\n",
        "#sample_submission = pd.read_csv('SampleSubmission.csv', low_memory=False)"
      ]
    },
    {
      "attachments": {},
      "cell_type": "markdown",
      "metadata": {
        "id": "cDRp9i5ZO9mz"
      },
      "source": [
        "## Data Understanding and EDA"
      ]
    },
    {
      "attachments": {},
      "cell_type": "markdown",
      "metadata": {},
      "source": [
        "### Information about columns"
      ]
    },
    {
      "attachments": {},
      "cell_type": "markdown",
      "metadata": {},
      "source": [
        "#### Client data:\n",
        "\n",
        "* Client_id: Unique id for client\n",
        "* District: District where the client is\n",
        "* Client_catg: Category client belongs to\n",
        "* Region: Area where the client is\n",
        "* Creation_date: Date client joined\n",
        "* Target: fraud:1 , not fraud: 0\n",
        "\n",
        "#### Invoice data:\n",
        "\n",
        "* Client_id: Unique id for the client\n",
        "* Invoice_date: Date of the invoice\n",
        "* Tarif_type: Type of tax\n",
        "* Counter_number:\n",
        "* Counter_statue: takes up to 5 values such as working fine, not working, on hold statue, ect\n",
        "* Counter_code:\n",
        "* Reading_remarque: notes that the STEG agent takes during his visit to the client (e.g: If the counter shows something wrong, the agent gives a bad score)\n",
        "* Counter_coefficient: An additional coefficient to be added when standard consumption is exceeded\n",
        "* Consommation_level_1: Consumption_level_1\n",
        "* Consommation_level_2: Consumption_level_2\n",
        "* Consommation_level_3: Consumption_level_3\n",
        "* Consommation_level_4: Consumption_level_4\n",
        "* Old_index: Old index\n",
        "* New_index: New index\n",
        "* Months_number: Month number\n",
        "* Counter_type: Type of counter"
      ]
    },
    {
      "attachments": {},
      "cell_type": "markdown",
      "metadata": {},
      "source": [
        "### Checking dataset size, shape and initial EDA "
      ]
    },
    {
      "cell_type": "code",
      "execution_count": 5,
      "metadata": {
        "colab": {
          "base_uri": "https://localhost:8080/"
        },
        "id": "h4zQzvLjKZ6E",
        "outputId": "deb14c51-2f5d-40cd-aa35-771477e044e0"
      },
      "outputs": [
        {
          "name": "stdout",
          "output_type": "stream",
          "text": [
            "(135493, 6) (4476749, 16) (58069, 5) (1939730, 16)\n"
          ]
        }
      ],
      "source": [
        "#compare size of the various datasets\n",
        "print(client_train.shape, invoice_train.shape, client_test.shape, invoice_test.shape)"
      ]
    },
    {
      "cell_type": "code",
      "execution_count": 6,
      "metadata": {
        "colab": {
          "base_uri": "https://localhost:8080/",
          "height": 270
        },
        "id": "Tw1On2leQsxU",
        "outputId": "4bbe6376-2007-4ea4-cd6f-e53e4c0bcb33"
      },
      "outputs": [
        {
          "data": {
            "text/html": [
              "<div>\n",
              "<style scoped>\n",
              "    .dataframe tbody tr th:only-of-type {\n",
              "        vertical-align: middle;\n",
              "    }\n",
              "\n",
              "    .dataframe tbody tr th {\n",
              "        vertical-align: top;\n",
              "    }\n",
              "\n",
              "    .dataframe thead th {\n",
              "        text-align: right;\n",
              "    }\n",
              "</style>\n",
              "<table border=\"1\" class=\"dataframe\">\n",
              "  <thead>\n",
              "    <tr style=\"text-align: right;\">\n",
              "      <th></th>\n",
              "      <th>client_id</th>\n",
              "      <th>invoice_date</th>\n",
              "      <th>tarif_type</th>\n",
              "      <th>counter_number</th>\n",
              "      <th>counter_statue</th>\n",
              "      <th>counter_code</th>\n",
              "      <th>reading_remarque</th>\n",
              "      <th>counter_coefficient</th>\n",
              "      <th>consommation_level_1</th>\n",
              "      <th>consommation_level_2</th>\n",
              "      <th>consommation_level_3</th>\n",
              "      <th>consommation_level_4</th>\n",
              "      <th>old_index</th>\n",
              "      <th>new_index</th>\n",
              "      <th>months_number</th>\n",
              "      <th>counter_type</th>\n",
              "    </tr>\n",
              "  </thead>\n",
              "  <tbody>\n",
              "    <tr>\n",
              "      <th>0</th>\n",
              "      <td>train_Client_0</td>\n",
              "      <td>2014-03-24</td>\n",
              "      <td>11</td>\n",
              "      <td>1335667</td>\n",
              "      <td>0</td>\n",
              "      <td>203</td>\n",
              "      <td>8</td>\n",
              "      <td>1</td>\n",
              "      <td>82</td>\n",
              "      <td>0</td>\n",
              "      <td>0</td>\n",
              "      <td>0</td>\n",
              "      <td>14302</td>\n",
              "      <td>14384</td>\n",
              "      <td>4</td>\n",
              "      <td>ELEC</td>\n",
              "    </tr>\n",
              "    <tr>\n",
              "      <th>1</th>\n",
              "      <td>train_Client_0</td>\n",
              "      <td>2013-03-29</td>\n",
              "      <td>11</td>\n",
              "      <td>1335667</td>\n",
              "      <td>0</td>\n",
              "      <td>203</td>\n",
              "      <td>6</td>\n",
              "      <td>1</td>\n",
              "      <td>1200</td>\n",
              "      <td>184</td>\n",
              "      <td>0</td>\n",
              "      <td>0</td>\n",
              "      <td>12294</td>\n",
              "      <td>13678</td>\n",
              "      <td>4</td>\n",
              "      <td>ELEC</td>\n",
              "    </tr>\n",
              "    <tr>\n",
              "      <th>2</th>\n",
              "      <td>train_Client_0</td>\n",
              "      <td>2015-03-23</td>\n",
              "      <td>11</td>\n",
              "      <td>1335667</td>\n",
              "      <td>0</td>\n",
              "      <td>203</td>\n",
              "      <td>8</td>\n",
              "      <td>1</td>\n",
              "      <td>123</td>\n",
              "      <td>0</td>\n",
              "      <td>0</td>\n",
              "      <td>0</td>\n",
              "      <td>14624</td>\n",
              "      <td>14747</td>\n",
              "      <td>4</td>\n",
              "      <td>ELEC</td>\n",
              "    </tr>\n",
              "    <tr>\n",
              "      <th>3</th>\n",
              "      <td>train_Client_0</td>\n",
              "      <td>2015-07-13</td>\n",
              "      <td>11</td>\n",
              "      <td>1335667</td>\n",
              "      <td>0</td>\n",
              "      <td>207</td>\n",
              "      <td>8</td>\n",
              "      <td>1</td>\n",
              "      <td>102</td>\n",
              "      <td>0</td>\n",
              "      <td>0</td>\n",
              "      <td>0</td>\n",
              "      <td>14747</td>\n",
              "      <td>14849</td>\n",
              "      <td>4</td>\n",
              "      <td>ELEC</td>\n",
              "    </tr>\n",
              "    <tr>\n",
              "      <th>4</th>\n",
              "      <td>train_Client_0</td>\n",
              "      <td>2016-11-17</td>\n",
              "      <td>11</td>\n",
              "      <td>1335667</td>\n",
              "      <td>0</td>\n",
              "      <td>207</td>\n",
              "      <td>9</td>\n",
              "      <td>1</td>\n",
              "      <td>572</td>\n",
              "      <td>0</td>\n",
              "      <td>0</td>\n",
              "      <td>0</td>\n",
              "      <td>15066</td>\n",
              "      <td>15638</td>\n",
              "      <td>12</td>\n",
              "      <td>ELEC</td>\n",
              "    </tr>\n",
              "  </tbody>\n",
              "</table>\n",
              "</div>"
            ],
            "text/plain": [
              "        client_id invoice_date  tarif_type  counter_number counter_statue  \\\n",
              "0  train_Client_0   2014-03-24          11         1335667              0   \n",
              "1  train_Client_0   2013-03-29          11         1335667              0   \n",
              "2  train_Client_0   2015-03-23          11         1335667              0   \n",
              "3  train_Client_0   2015-07-13          11         1335667              0   \n",
              "4  train_Client_0   2016-11-17          11         1335667              0   \n",
              "\n",
              "   counter_code  reading_remarque  counter_coefficient  consommation_level_1  \\\n",
              "0           203                 8                    1                    82   \n",
              "1           203                 6                    1                  1200   \n",
              "2           203                 8                    1                   123   \n",
              "3           207                 8                    1                   102   \n",
              "4           207                 9                    1                   572   \n",
              "\n",
              "   consommation_level_2  consommation_level_3  consommation_level_4  \\\n",
              "0                     0                     0                     0   \n",
              "1                   184                     0                     0   \n",
              "2                     0                     0                     0   \n",
              "3                     0                     0                     0   \n",
              "4                     0                     0                     0   \n",
              "\n",
              "   old_index  new_index  months_number counter_type  \n",
              "0      14302      14384              4         ELEC  \n",
              "1      12294      13678              4         ELEC  \n",
              "2      14624      14747              4         ELEC  \n",
              "3      14747      14849              4         ELEC  \n",
              "4      15066      15638             12         ELEC  "
            ]
          },
          "execution_count": 6,
          "metadata": {},
          "output_type": "execute_result"
        }
      ],
      "source": [
        "#print top rows of dataset\n",
        "invoice_train.head()"
      ]
    },
    {
      "cell_type": "code",
      "execution_count": 7,
      "metadata": {
        "colab": {
          "base_uri": "https://localhost:8080/",
          "height": 206
        },
        "id": "jUcrU9IYSMZJ",
        "outputId": "e70e5da0-7451-48ca-8c3a-643524f3139c"
      },
      "outputs": [
        {
          "data": {
            "text/html": [
              "<div>\n",
              "<style scoped>\n",
              "    .dataframe tbody tr th:only-of-type {\n",
              "        vertical-align: middle;\n",
              "    }\n",
              "\n",
              "    .dataframe tbody tr th {\n",
              "        vertical-align: top;\n",
              "    }\n",
              "\n",
              "    .dataframe thead th {\n",
              "        text-align: right;\n",
              "    }\n",
              "</style>\n",
              "<table border=\"1\" class=\"dataframe\">\n",
              "  <thead>\n",
              "    <tr style=\"text-align: right;\">\n",
              "      <th></th>\n",
              "      <th>disrict</th>\n",
              "      <th>client_id</th>\n",
              "      <th>client_catg</th>\n",
              "      <th>region</th>\n",
              "      <th>creation_date</th>\n",
              "      <th>target</th>\n",
              "    </tr>\n",
              "  </thead>\n",
              "  <tbody>\n",
              "    <tr>\n",
              "      <th>0</th>\n",
              "      <td>60</td>\n",
              "      <td>train_Client_0</td>\n",
              "      <td>11</td>\n",
              "      <td>101</td>\n",
              "      <td>31/12/1994</td>\n",
              "      <td>0.0</td>\n",
              "    </tr>\n",
              "    <tr>\n",
              "      <th>1</th>\n",
              "      <td>69</td>\n",
              "      <td>train_Client_1</td>\n",
              "      <td>11</td>\n",
              "      <td>107</td>\n",
              "      <td>29/05/2002</td>\n",
              "      <td>0.0</td>\n",
              "    </tr>\n",
              "    <tr>\n",
              "      <th>2</th>\n",
              "      <td>62</td>\n",
              "      <td>train_Client_10</td>\n",
              "      <td>11</td>\n",
              "      <td>301</td>\n",
              "      <td>13/03/1986</td>\n",
              "      <td>0.0</td>\n",
              "    </tr>\n",
              "    <tr>\n",
              "      <th>3</th>\n",
              "      <td>69</td>\n",
              "      <td>train_Client_100</td>\n",
              "      <td>11</td>\n",
              "      <td>105</td>\n",
              "      <td>11/07/1996</td>\n",
              "      <td>0.0</td>\n",
              "    </tr>\n",
              "    <tr>\n",
              "      <th>4</th>\n",
              "      <td>62</td>\n",
              "      <td>train_Client_1000</td>\n",
              "      <td>11</td>\n",
              "      <td>303</td>\n",
              "      <td>14/10/2014</td>\n",
              "      <td>0.0</td>\n",
              "    </tr>\n",
              "  </tbody>\n",
              "</table>\n",
              "</div>"
            ],
            "text/plain": [
              "   disrict          client_id  client_catg  region creation_date  target\n",
              "0       60     train_Client_0           11     101    31/12/1994     0.0\n",
              "1       69     train_Client_1           11     107    29/05/2002     0.0\n",
              "2       62    train_Client_10           11     301    13/03/1986     0.0\n",
              "3       69   train_Client_100           11     105    11/07/1996     0.0\n",
              "4       62  train_Client_1000           11     303    14/10/2014     0.0"
            ]
          },
          "execution_count": 7,
          "metadata": {},
          "output_type": "execute_result"
        }
      ],
      "source": [
        "#print top rows of dataset\n",
        "client_train.head()"
      ]
    },
    {
      "cell_type": "code",
      "execution_count": 8,
      "metadata": {
        "colab": {
          "base_uri": "https://localhost:8080/",
          "height": 300
        },
        "id": "fFBTeG8YSicC",
        "outputId": "551f42dc-8b1c-42a9-9a60-f6dc9279911b"
      },
      "outputs": [
        {
          "data": {
            "text/html": [
              "<div>\n",
              "<style scoped>\n",
              "    .dataframe tbody tr th:only-of-type {\n",
              "        vertical-align: middle;\n",
              "    }\n",
              "\n",
              "    .dataframe tbody tr th {\n",
              "        vertical-align: top;\n",
              "    }\n",
              "\n",
              "    .dataframe thead th {\n",
              "        text-align: right;\n",
              "    }\n",
              "</style>\n",
              "<table border=\"1\" class=\"dataframe\">\n",
              "  <thead>\n",
              "    <tr style=\"text-align: right;\">\n",
              "      <th></th>\n",
              "      <th>tarif_type</th>\n",
              "      <th>counter_number</th>\n",
              "      <th>counter_code</th>\n",
              "      <th>reading_remarque</th>\n",
              "      <th>counter_coefficient</th>\n",
              "      <th>consommation_level_1</th>\n",
              "      <th>consommation_level_2</th>\n",
              "      <th>consommation_level_3</th>\n",
              "      <th>consommation_level_4</th>\n",
              "      <th>old_index</th>\n",
              "      <th>new_index</th>\n",
              "      <th>months_number</th>\n",
              "    </tr>\n",
              "  </thead>\n",
              "  <tbody>\n",
              "    <tr>\n",
              "      <th>count</th>\n",
              "      <td>4476749.00</td>\n",
              "      <td>4.476749e+06</td>\n",
              "      <td>4476749.00</td>\n",
              "      <td>4476749.00</td>\n",
              "      <td>4476749.00</td>\n",
              "      <td>4476749.00</td>\n",
              "      <td>4476749.00</td>\n",
              "      <td>4476749.00</td>\n",
              "      <td>4476749.00</td>\n",
              "      <td>4476749.00</td>\n",
              "      <td>4476749.00</td>\n",
              "      <td>4476749.00</td>\n",
              "    </tr>\n",
              "    <tr>\n",
              "      <th>mean</th>\n",
              "      <td>20.13</td>\n",
              "      <td>1.230587e+11</td>\n",
              "      <td>172.49</td>\n",
              "      <td>7.32</td>\n",
              "      <td>1.00</td>\n",
              "      <td>410.98</td>\n",
              "      <td>109.32</td>\n",
              "      <td>20.31</td>\n",
              "      <td>52.93</td>\n",
              "      <td>17767.00</td>\n",
              "      <td>18349.70</td>\n",
              "      <td>44.83</td>\n",
              "    </tr>\n",
              "    <tr>\n",
              "      <th>std</th>\n",
              "      <td>13.47</td>\n",
              "      <td>1.657267e+12</td>\n",
              "      <td>133.89</td>\n",
              "      <td>1.57</td>\n",
              "      <td>0.31</td>\n",
              "      <td>757.31</td>\n",
              "      <td>1220.12</td>\n",
              "      <td>157.42</td>\n",
              "      <td>875.47</td>\n",
              "      <td>40366.93</td>\n",
              "      <td>40953.21</td>\n",
              "      <td>3128.34</td>\n",
              "    </tr>\n",
              "    <tr>\n",
              "      <th>min</th>\n",
              "      <td>8.00</td>\n",
              "      <td>0.000000e+00</td>\n",
              "      <td>0.00</td>\n",
              "      <td>5.00</td>\n",
              "      <td>0.00</td>\n",
              "      <td>0.00</td>\n",
              "      <td>0.00</td>\n",
              "      <td>0.00</td>\n",
              "      <td>0.00</td>\n",
              "      <td>0.00</td>\n",
              "      <td>0.00</td>\n",
              "      <td>0.00</td>\n",
              "    </tr>\n",
              "    <tr>\n",
              "      <th>25%</th>\n",
              "      <td>11.00</td>\n",
              "      <td>1.211080e+05</td>\n",
              "      <td>5.00</td>\n",
              "      <td>6.00</td>\n",
              "      <td>1.00</td>\n",
              "      <td>79.00</td>\n",
              "      <td>0.00</td>\n",
              "      <td>0.00</td>\n",
              "      <td>0.00</td>\n",
              "      <td>1791.00</td>\n",
              "      <td>2056.00</td>\n",
              "      <td>4.00</td>\n",
              "    </tr>\n",
              "    <tr>\n",
              "      <th>50%</th>\n",
              "      <td>11.00</td>\n",
              "      <td>4.945610e+05</td>\n",
              "      <td>203.00</td>\n",
              "      <td>8.00</td>\n",
              "      <td>1.00</td>\n",
              "      <td>274.00</td>\n",
              "      <td>0.00</td>\n",
              "      <td>0.00</td>\n",
              "      <td>0.00</td>\n",
              "      <td>7690.00</td>\n",
              "      <td>8192.00</td>\n",
              "      <td>4.00</td>\n",
              "    </tr>\n",
              "    <tr>\n",
              "      <th>75%</th>\n",
              "      <td>40.00</td>\n",
              "      <td>1.115161e+06</td>\n",
              "      <td>207.00</td>\n",
              "      <td>9.00</td>\n",
              "      <td>1.00</td>\n",
              "      <td>600.00</td>\n",
              "      <td>0.00</td>\n",
              "      <td>0.00</td>\n",
              "      <td>0.00</td>\n",
              "      <td>21660.00</td>\n",
              "      <td>22343.00</td>\n",
              "      <td>4.00</td>\n",
              "    </tr>\n",
              "    <tr>\n",
              "      <th>max</th>\n",
              "      <td>45.00</td>\n",
              "      <td>2.798115e+13</td>\n",
              "      <td>600.00</td>\n",
              "      <td>413.00</td>\n",
              "      <td>50.00</td>\n",
              "      <td>999910.00</td>\n",
              "      <td>999073.00</td>\n",
              "      <td>64492.00</td>\n",
              "      <td>547946.00</td>\n",
              "      <td>2800280.00</td>\n",
              "      <td>2870972.00</td>\n",
              "      <td>636624.00</td>\n",
              "    </tr>\n",
              "  </tbody>\n",
              "</table>\n",
              "</div>"
            ],
            "text/plain": [
              "       tarif_type  counter_number  counter_code  reading_remarque  \\\n",
              "count  4476749.00    4.476749e+06    4476749.00        4476749.00   \n",
              "mean        20.13    1.230587e+11        172.49              7.32   \n",
              "std         13.47    1.657267e+12        133.89              1.57   \n",
              "min          8.00    0.000000e+00          0.00              5.00   \n",
              "25%         11.00    1.211080e+05          5.00              6.00   \n",
              "50%         11.00    4.945610e+05        203.00              8.00   \n",
              "75%         40.00    1.115161e+06        207.00              9.00   \n",
              "max         45.00    2.798115e+13        600.00            413.00   \n",
              "\n",
              "       counter_coefficient  consommation_level_1  consommation_level_2  \\\n",
              "count           4476749.00            4476749.00            4476749.00   \n",
              "mean                  1.00                410.98                109.32   \n",
              "std                   0.31                757.31               1220.12   \n",
              "min                   0.00                  0.00                  0.00   \n",
              "25%                   1.00                 79.00                  0.00   \n",
              "50%                   1.00                274.00                  0.00   \n",
              "75%                   1.00                600.00                  0.00   \n",
              "max                  50.00             999910.00             999073.00   \n",
              "\n",
              "       consommation_level_3  consommation_level_4   old_index   new_index  \\\n",
              "count            4476749.00            4476749.00  4476749.00  4476749.00   \n",
              "mean                  20.31                 52.93    17767.00    18349.70   \n",
              "std                  157.42                875.47    40366.93    40953.21   \n",
              "min                    0.00                  0.00        0.00        0.00   \n",
              "25%                    0.00                  0.00     1791.00     2056.00   \n",
              "50%                    0.00                  0.00     7690.00     8192.00   \n",
              "75%                    0.00                  0.00    21660.00    22343.00   \n",
              "max                64492.00             547946.00  2800280.00  2870972.00   \n",
              "\n",
              "       months_number  \n",
              "count     4476749.00  \n",
              "mean           44.83  \n",
              "std          3128.34  \n",
              "min             0.00  \n",
              "25%             4.00  \n",
              "50%             4.00  \n",
              "75%             4.00  \n",
              "max        636624.00  "
            ]
          },
          "execution_count": 8,
          "metadata": {},
          "output_type": "execute_result"
        }
      ],
      "source": [
        "#Get a summary for all numerical columns\n",
        "invoice_train.describe().round(2)"
      ]
    },
    {
      "cell_type": "code",
      "execution_count": 9,
      "metadata": {
        "colab": {
          "base_uri": "https://localhost:8080/",
          "height": 300
        },
        "id": "egcBZ2ysSkji",
        "outputId": "37102972-554b-4063-ce3b-14dae74b3540"
      },
      "outputs": [
        {
          "data": {
            "text/html": [
              "<div>\n",
              "<style scoped>\n",
              "    .dataframe tbody tr th:only-of-type {\n",
              "        vertical-align: middle;\n",
              "    }\n",
              "\n",
              "    .dataframe tbody tr th {\n",
              "        vertical-align: top;\n",
              "    }\n",
              "\n",
              "    .dataframe thead th {\n",
              "        text-align: right;\n",
              "    }\n",
              "</style>\n",
              "<table border=\"1\" class=\"dataframe\">\n",
              "  <thead>\n",
              "    <tr style=\"text-align: right;\">\n",
              "      <th></th>\n",
              "      <th>disrict</th>\n",
              "      <th>client_catg</th>\n",
              "      <th>region</th>\n",
              "      <th>target</th>\n",
              "    </tr>\n",
              "  </thead>\n",
              "  <tbody>\n",
              "    <tr>\n",
              "      <th>count</th>\n",
              "      <td>135493.000000</td>\n",
              "      <td>135493.000000</td>\n",
              "      <td>135493.000000</td>\n",
              "      <td>135493.000000</td>\n",
              "    </tr>\n",
              "    <tr>\n",
              "      <th>mean</th>\n",
              "      <td>63.511222</td>\n",
              "      <td>11.512506</td>\n",
              "      <td>206.159809</td>\n",
              "      <td>0.055841</td>\n",
              "    </tr>\n",
              "    <tr>\n",
              "      <th>std</th>\n",
              "      <td>3.354400</td>\n",
              "      <td>4.423761</td>\n",
              "      <td>104.207044</td>\n",
              "      <td>0.229614</td>\n",
              "    </tr>\n",
              "    <tr>\n",
              "      <th>min</th>\n",
              "      <td>60.000000</td>\n",
              "      <td>11.000000</td>\n",
              "      <td>101.000000</td>\n",
              "      <td>0.000000</td>\n",
              "    </tr>\n",
              "    <tr>\n",
              "      <th>25%</th>\n",
              "      <td>62.000000</td>\n",
              "      <td>11.000000</td>\n",
              "      <td>103.000000</td>\n",
              "      <td>0.000000</td>\n",
              "    </tr>\n",
              "    <tr>\n",
              "      <th>50%</th>\n",
              "      <td>62.000000</td>\n",
              "      <td>11.000000</td>\n",
              "      <td>107.000000</td>\n",
              "      <td>0.000000</td>\n",
              "    </tr>\n",
              "    <tr>\n",
              "      <th>75%</th>\n",
              "      <td>69.000000</td>\n",
              "      <td>11.000000</td>\n",
              "      <td>307.000000</td>\n",
              "      <td>0.000000</td>\n",
              "    </tr>\n",
              "    <tr>\n",
              "      <th>max</th>\n",
              "      <td>69.000000</td>\n",
              "      <td>51.000000</td>\n",
              "      <td>399.000000</td>\n",
              "      <td>1.000000</td>\n",
              "    </tr>\n",
              "  </tbody>\n",
              "</table>\n",
              "</div>"
            ],
            "text/plain": [
              "             disrict    client_catg         region         target\n",
              "count  135493.000000  135493.000000  135493.000000  135493.000000\n",
              "mean       63.511222      11.512506     206.159809       0.055841\n",
              "std         3.354400       4.423761     104.207044       0.229614\n",
              "min        60.000000      11.000000     101.000000       0.000000\n",
              "25%        62.000000      11.000000     103.000000       0.000000\n",
              "50%        62.000000      11.000000     107.000000       0.000000\n",
              "75%        69.000000      11.000000     307.000000       0.000000\n",
              "max        69.000000      51.000000     399.000000       1.000000"
            ]
          },
          "execution_count": 9,
          "metadata": {},
          "output_type": "execute_result"
        }
      ],
      "source": [
        "#Get a summary for all numerical columns\n",
        "client_train.describe()"
      ]
    },
    {
      "attachments": {},
      "cell_type": "markdown",
      "metadata": {},
      "source": [
        "### Checking info for each column"
      ]
    },
    {
      "cell_type": "code",
      "execution_count": 10,
      "metadata": {
        "colab": {
          "base_uri": "https://localhost:8080/"
        },
        "id": "-8gQmkajSnXs",
        "outputId": "fef429ad-2fd5-46e3-9d3b-32def757324c"
      },
      "outputs": [
        {
          "name": "stdout",
          "output_type": "stream",
          "text": [
            "<class 'pandas.core.frame.DataFrame'>\n",
            "RangeIndex: 4476749 entries, 0 to 4476748\n",
            "Data columns (total 16 columns):\n",
            " #   Column                Dtype \n",
            "---  ------                ----- \n",
            " 0   client_id             object\n",
            " 1   invoice_date          object\n",
            " 2   tarif_type            int64 \n",
            " 3   counter_number        int64 \n",
            " 4   counter_statue        object\n",
            " 5   counter_code          int64 \n",
            " 6   reading_remarque      int64 \n",
            " 7   counter_coefficient   int64 \n",
            " 8   consommation_level_1  int64 \n",
            " 9   consommation_level_2  int64 \n",
            " 10  consommation_level_3  int64 \n",
            " 11  consommation_level_4  int64 \n",
            " 12  old_index             int64 \n",
            " 13  new_index             int64 \n",
            " 14  months_number         int64 \n",
            " 15  counter_type          object\n",
            "dtypes: int64(12), object(4)\n",
            "memory usage: 546.5+ MB\n"
          ]
        }
      ],
      "source": [
        "#Get concise information of each column in dataset\n",
        "invoice_train.info()"
      ]
    },
    {
      "cell_type": "code",
      "execution_count": 11,
      "metadata": {
        "colab": {
          "base_uri": "https://localhost:8080/"
        },
        "id": "VII8aa8CSoed",
        "outputId": "330bd35b-fd37-422b-b718-c34d354661db"
      },
      "outputs": [
        {
          "name": "stdout",
          "output_type": "stream",
          "text": [
            "<class 'pandas.core.frame.DataFrame'>\n",
            "RangeIndex: 135493 entries, 0 to 135492\n",
            "Data columns (total 6 columns):\n",
            " #   Column         Non-Null Count   Dtype  \n",
            "---  ------         --------------   -----  \n",
            " 0   disrict        135493 non-null  int64  \n",
            " 1   client_id      135493 non-null  object \n",
            " 2   client_catg    135493 non-null  int64  \n",
            " 3   region         135493 non-null  int64  \n",
            " 4   creation_date  135493 non-null  object \n",
            " 5   target         135493 non-null  float64\n",
            "dtypes: float64(1), int64(3), object(2)\n",
            "memory usage: 6.2+ MB\n"
          ]
        }
      ],
      "source": [
        "#Get concise information of each column in dataset\n",
        "client_train.info()"
      ]
    },
    {
      "attachments": {},
      "cell_type": "markdown",
      "metadata": {},
      "source": [
        "### Checking count of unique values for each column"
      ]
    },
    {
      "cell_type": "code",
      "execution_count": 12,
      "metadata": {
        "colab": {
          "base_uri": "https://localhost:8080/"
        },
        "id": "iiJ3e_pFSOWg",
        "outputId": "d074cb2a-d009-471f-f124-466db367df68"
      },
      "outputs": [
        {
          "name": "stdout",
          "output_type": "stream",
          "text": [
            "client_id - 135493\n",
            "invoice_date - 8275\n",
            "tarif_type - 17\n",
            "counter_number - 201893\n",
            "counter_statue - 12\n",
            "counter_code - 42\n",
            "reading_remarque - 8\n",
            "counter_coefficient - 16\n",
            "consommation_level_1 - 8295\n",
            "consommation_level_2 - 12576\n",
            "consommation_level_3 - 2253\n",
            "consommation_level_4 - 12075\n",
            "old_index - 155648\n",
            "new_index - 157980\n",
            "months_number - 1370\n",
            "counter_type - 2\n"
          ]
        }
      ],
      "source": [
        "#Getting unique values on the invoice train data\n",
        "for col in invoice_train.columns:\n",
        "    print(f\"{col} - {invoice_train[col].nunique()}\")"
      ]
    },
    {
      "cell_type": "code",
      "execution_count": 13,
      "metadata": {
        "colab": {
          "base_uri": "https://localhost:8080/"
        },
        "id": "uMC16gFETUAF",
        "outputId": "0e363f7b-35c4-45c2-c763-acf80585ef7c"
      },
      "outputs": [
        {
          "name": "stdout",
          "output_type": "stream",
          "text": [
            "disrict - 4\n",
            "client_id - 135493\n",
            "client_catg - 3\n",
            "region - 25\n",
            "creation_date - 8088\n",
            "target - 2\n"
          ]
        }
      ],
      "source": [
        "#Getting unique values on the invoice train data\n",
        "for col in client_train.columns:\n",
        "    print(f\"{col} - {client_train[col].nunique()}\")"
      ]
    },
    {
      "attachments": {},
      "cell_type": "markdown",
      "metadata": {},
      "source": [
        "### Checking for empty values"
      ]
    },
    {
      "cell_type": "code",
      "execution_count": 14,
      "metadata": {
        "colab": {
          "base_uri": "https://localhost:8080/"
        },
        "id": "h10LPXsfVHhu",
        "outputId": "332ac9e1-02e3-4a3a-a8d6-1c8d706b9601"
      },
      "outputs": [
        {
          "data": {
            "text/plain": [
              "client_id               0\n",
              "invoice_date            0\n",
              "tarif_type              0\n",
              "counter_number          0\n",
              "counter_statue          0\n",
              "counter_code            0\n",
              "reading_remarque        0\n",
              "counter_coefficient     0\n",
              "consommation_level_1    0\n",
              "consommation_level_2    0\n",
              "consommation_level_3    0\n",
              "consommation_level_4    0\n",
              "old_index               0\n",
              "new_index               0\n",
              "months_number           0\n",
              "counter_type            0\n",
              "dtype: int64"
            ]
          },
          "execution_count": 14,
          "metadata": {},
          "output_type": "execute_result"
        }
      ],
      "source": [
        "#check for missing values\n",
        "invoice_train.isnull().sum()"
      ]
    },
    {
      "cell_type": "code",
      "execution_count": 15,
      "metadata": {
        "colab": {
          "base_uri": "https://localhost:8080/"
        },
        "id": "b3XyoiIbVO-b",
        "outputId": "9200e12f-66fd-43a4-edf4-daa1e1cfdd11"
      },
      "outputs": [
        {
          "data": {
            "text/plain": [
              "disrict          0\n",
              "client_id        0\n",
              "client_catg      0\n",
              "region           0\n",
              "creation_date    0\n",
              "target           0\n",
              "dtype: int64"
            ]
          },
          "execution_count": 15,
          "metadata": {},
          "output_type": "execute_result"
        }
      ],
      "source": [
        "#check for missing values\n",
        "client_train.isnull().sum()"
      ]
    },
    {
      "attachments": {},
      "cell_type": "markdown",
      "metadata": {
        "id": "i3oZLTnSVSOT"
      },
      "source": [
        "No missing values in train set"
      ]
    },
    {
      "attachments": {},
      "cell_type": "markdown",
      "metadata": {},
      "source": [
        "### Checking target distribution in dataset"
      ]
    },
    {
      "cell_type": "code",
      "execution_count": 16,
      "metadata": {
        "colab": {
          "base_uri": "https://localhost:8080/",
          "height": 281
        },
        "id": "JOzSAlEWTR3j",
        "outputId": "97a46548-924e-44a4-9b85-e40d01979b99"
      },
      "outputs": [
        {
          "data": {
            "image/png": "[encoded data removed]",
            "text/plain": [
              "<Figure size 640x480 with 1 Axes>"
            ]
          },
          "metadata": {},
          "output_type": "display_data"
        }
      ],
      "source": [
        "#Visualize fraudulent activities\n",
        "fraudactivities = client_train.groupby(['target'])['client_id'].count()\n",
        "plt.bar(x=fraudactivities.index, height=fraudactivities.values, tick_label = ['non-fraudulent clients', 'fraudulent clients'])\n",
        "plt.title('Fraud - Target Distribution')\n",
        "plt.show()"
      ]
    },
    {
      "attachments": {},
      "cell_type": "markdown",
      "metadata": {
        "id": "fQb7RZf_Ufn9"
      },
      "source": [
        "Target is highly imbalanced with fewer cases of fraudulent activities (around 5.5%)."
      ]
    },
    {
      "attachments": {},
      "cell_type": "markdown",
      "metadata": {},
      "source": [
        "### Checking client distribution across districts and regions"
      ]
    },
    {
      "cell_type": "code",
      "execution_count": 17,
      "metadata": {
        "colab": {
          "base_uri": "https://localhost:8080/",
          "height": 545
        },
        "id": "v8G8BPgMUrVW",
        "outputId": "886941f9-3a90-48c2-ddac-75728bd7b935"
      },
      "outputs": [
        {
          "data": {
            "image/png": "[encoded data removed]",
            "text/plain": [
              "<Figure size 640x480 with 1 Axes>"
            ]
          },
          "metadata": {},
          "output_type": "display_data"
        },
        {
          "data": {
            "image/png": "[encoded data removed]",
            "text/plain": [
              "<Figure size 640x480 with 1 Axes>"
            ]
          },
          "metadata": {},
          "output_type": "display_data"
        }
      ],
      "source": [
        "#Visualize client distribution across districts and regions\n",
        "for col in ['disrict','region']:\n",
        "    region = client_train.groupby([col])['client_id'].count()\n",
        "    plt.bar(x=region.index, height=region.values)\n",
        "    plt.title(col+' distribution')\n",
        "    plt.show()"
      ]
    },
    {
      "attachments": {},
      "cell_type": "markdown",
      "metadata": {
        "id": "0-LOrxdIU7-h"
      },
      "source": [
        "## Feature Engineering"
      ]
    },
    {
      "attachments": {},
      "cell_type": "markdown",
      "metadata": {},
      "source": [
        "### Converting of data types and encoding of categorical value for counter type"
      ]
    },
    {
      "cell_type": "code",
      "execution_count": 18,
      "metadata": {
        "id": "aVypp4ahU9tq"
      },
      "outputs": [],
      "source": [
        "#convert the column invoice_date to date time format on both the invoice train and invoice test\n",
        "for df in [invoice_train,invoice_test]:\n",
        "    df['invoice_date'] = pd.to_datetime(df['invoice_date'])"
      ]
    },
    {
      "cell_type": "code",
      "execution_count": 19,
      "metadata": {
        "id": "sW2W5i63VYyK"
      },
      "outputs": [],
      "source": [
        "#encode labels in categorical column\n",
        "d={\"ELEC\":0,\"GAZ\":1}\n",
        "invoice_train['counter_type']=invoice_train['counter_type'].map(d)\n",
        "invoice_test['counter_type']=invoice_test['counter_type'].map(d)"
      ]
    },
    {
      "cell_type": "code",
      "execution_count": 20,
      "metadata": {
        "id": "NldYnn0GWHAk"
      },
      "outputs": [],
      "source": [
        "#convert categorical columns to int for model\n",
        "client_train['client_catg'] = client_train['client_catg'].astype(int)\n",
        "client_train['disrict'] = client_train['disrict'].astype(int)\n",
        "\n",
        "client_test['client_catg'] = client_test['client_catg'].astype(int)\n",
        "client_test['disrict'] = client_test['disrict'].astype(int)"
      ]
    },
    {
      "cell_type": "code",
      "execution_count": 21,
      "metadata": {},
      "outputs": [
        {
          "data": {
            "image/png": "[encoded data removed]",
            "text/plain": [
              "<Figure size 640x480 with 1 Axes>"
            ]
          },
          "metadata": {},
          "output_type": "display_data"
        }
      ],
      "source": [
        "#Checking distribution of transaction count for each year\n",
        "invoice_train.groupby(invoice_train.invoice_date.dt.year).client_id.count().plot(kind='bar', xlabel='transaction year', ylabel='transaction count');"
      ]
    },
    {
      "attachments": {},
      "cell_type": "markdown",
      "metadata": {},
      "source": [
        "### Check old and new index and calculate delta index"
      ]
    },
    {
      "cell_type": "code",
      "execution_count": 22,
      "metadata": {},
      "outputs": [
        {
          "data": {
            "text/plain": [
              "<matplotlib.collections.PathCollection at 0x7f620ae2fdf0>"
            ]
          },
          "execution_count": 22,
          "metadata": {},
          "output_type": "execute_result"
        },
        {
          "data": {
            "image/png": "[encoded data removed]",
            "text/plain": [
              "<Figure size 640x480 with 1 Axes>"
            ]
          },
          "metadata": {},
          "output_type": "display_data"
        }
      ],
      "source": [
        "#Scatterplot to check correlation between old and new index\n",
        "plt.scatter(x=invoice_train.old_index, y=invoice_train.new_index)"
      ]
    },
    {
      "cell_type": "code",
      "execution_count": 23,
      "metadata": {},
      "outputs": [],
      "source": [
        "#Calculating difference between old and new index value\n",
        "invoice_train['delta_index'] = invoice_train.new_index - invoice_train.old_index\n",
        "invoice_train.drop(['old_index', 'new_index'], axis=1, inplace=True)\n",
        "\n",
        "invoice_test['delta_index'] = invoice_test.new_index - invoice_test.old_index\n",
        "invoice_test.drop(['old_index', 'new_index'], axis=1, inplace=True)"
      ]
    },
    {
      "attachments": {},
      "cell_type": "markdown",
      "metadata": {},
      "source": [
        "### Check data by year of transactions"
      ]
    },
    {
      "cell_type": "code",
      "execution_count": 24,
      "metadata": {},
      "outputs": [],
      "source": [
        "# first left join client data to invoice data\n",
        "invoice_client_train = pd.merge(invoice_train,client_train, on='client_id', how='left')"
      ]
    },
    {
      "cell_type": "code",
      "execution_count": 25,
      "metadata": {},
      "outputs": [
        {
          "name": "stdout",
          "output_type": "stream",
          "text": [
            "22112\n",
            "4454637\n"
          ]
        }
      ],
      "source": [
        "print(invoice_client_train.query('invoice_date.dt.year < 2005').client_id.count())\n",
        "print(invoice_client_train.query('invoice_date.dt.year >= 2005').client_id.count())"
      ]
    },
    {
      "attachments": {},
      "cell_type": "markdown",
      "metadata": {},
      "source": [
        "There are 22112 entries from before 2005 and 4454637 entries from 2005 or later."
      ]
    },
    {
      "attachments": {},
      "cell_type": "markdown",
      "metadata": {},
      "source": [
        "#### Transaction count for each year - limiting data to 2005 - 2019"
      ]
    },
    {
      "attachments": {},
      "cell_type": "markdown",
      "metadata": {},
      "source": [
        "All 22112 invoice before 2005 don't have any frauds. So, we can drop those rows from our dataframe. Then, 4454637 invoices remain from 2005 on. "
      ]
    },
    {
      "cell_type": "code",
      "execution_count": 26,
      "metadata": {},
      "outputs": [],
      "source": [
        "#Limiting data to transactions from 2005 or later\n",
        "invoice_train = invoice_train.query('invoice_date.dt.year >= 2005')"
      ]
    },
    {
      "attachments": {},
      "cell_type": "markdown",
      "metadata": {},
      "source": [
        "### Aggregating data of invoices for each client and merging into client table"
      ]
    },
    {
      "cell_type": "code",
      "execution_count": 27,
      "metadata": {
        "id": "Bt7LJHhyXJji"
      },
      "outputs": [],
      "source": [
        "def aggregate_by_client_id(invoice_data):\n",
        "    ''' function to aggregate rows for each client by specified aggregation method'''\n",
        "    aggs = {}\n",
        "    aggs['consommation_level_1'] = ['mean']\n",
        "    aggs['consommation_level_2'] = ['mean']\n",
        "    aggs['consommation_level_3'] = ['mean']\n",
        "    aggs['consommation_level_4'] = ['mean']\n",
        "    aggs['tarif_type'] = ['mean']\n",
        "    aggs['counter_number'] = ['mean']\n",
        "    aggs['counter_statue'] = [pd.Series.mode]\n",
        "    aggs['counter_code'] = ['mean']\n",
        "    aggs['reading_remarque'] = ['mean']\n",
        "    aggs['counter_coefficient'] = ['mean']\n",
        "    aggs['delta_index'] = ['mean']\n",
        "    aggs['months_number'] = ['mean']\n",
        "    aggs['counter_type'] = [pd.Series.mode]\n",
        "\n",
        "    agg_trans = invoice_data.groupby(['client_id']).agg(aggs)\n",
        "    agg_trans.columns = ['_'.join(col).strip() for col in agg_trans.columns.values]\n",
        "    agg_trans.reset_index(inplace=True)\n",
        "\n",
        "    df = (invoice_data.groupby('client_id')\n",
        "            .size()\n",
        "            .reset_index(name='{}transactions_count'.format('1')))\n",
        "    return pd.merge(df, agg_trans, on='client_id', how='left')"
      ]
    },
    {
      "attachments": {},
      "cell_type": "markdown",
      "metadata": {},
      "source": [
        "For aggregation of object data in the two dataframes we take the first value of the most frequent ones."
      ]
    },
    {
      "cell_type": "code",
      "execution_count": 28,
      "metadata": {
        "id": "8gUjxEmKWZjp"
      },
      "outputs": [
        {
          "name": "stdout",
          "output_type": "stream",
          "text": [
            "(128364, 15)\n"
          ]
        },
        {
          "data": {
            "text/html": [
              "<div>\n",
              "<style scoped>\n",
              "    .dataframe tbody tr th:only-of-type {\n",
              "        vertical-align: middle;\n",
              "    }\n",
              "\n",
              "    .dataframe tbody tr th {\n",
              "        vertical-align: top;\n",
              "    }\n",
              "\n",
              "    .dataframe thead th {\n",
              "        text-align: right;\n",
              "    }\n",
              "</style>\n",
              "<table border=\"1\" class=\"dataframe\">\n",
              "  <thead>\n",
              "    <tr style=\"text-align: right;\">\n",
              "      <th></th>\n",
              "      <th>client_id</th>\n",
              "      <th>1transactions_count</th>\n",
              "      <th>consommation_level_1_mean</th>\n",
              "      <th>consommation_level_2_mean</th>\n",
              "      <th>consommation_level_3_mean</th>\n",
              "      <th>consommation_level_4_mean</th>\n",
              "      <th>tarif_type_mean</th>\n",
              "      <th>counter_number_mean</th>\n",
              "      <th>counter_statue_mode</th>\n",
              "      <th>counter_code_mean</th>\n",
              "      <th>reading_remarque_mean</th>\n",
              "      <th>counter_coefficient_mean</th>\n",
              "      <th>delta_index_mean</th>\n",
              "      <th>months_number_mean</th>\n",
              "      <th>counter_type_mode</th>\n",
              "    </tr>\n",
              "  </thead>\n",
              "  <tbody>\n",
              "    <tr>\n",
              "      <th>0</th>\n",
              "      <td>train_Client_0</td>\n",
              "      <td>35</td>\n",
              "      <td>352.400000</td>\n",
              "      <td>10.571429</td>\n",
              "      <td>0.000000</td>\n",
              "      <td>0.000000</td>\n",
              "      <td>11.0</td>\n",
              "      <td>1335667.0</td>\n",
              "      <td>0</td>\n",
              "      <td>203.685714</td>\n",
              "      <td>6.971429</td>\n",
              "      <td>1.0</td>\n",
              "      <td>362.971429</td>\n",
              "      <td>4.628571</td>\n",
              "      <td>0</td>\n",
              "    </tr>\n",
              "    <tr>\n",
              "      <th>1</th>\n",
              "      <td>train_Client_1</td>\n",
              "      <td>37</td>\n",
              "      <td>557.540541</td>\n",
              "      <td>0.000000</td>\n",
              "      <td>0.000000</td>\n",
              "      <td>0.000000</td>\n",
              "      <td>11.0</td>\n",
              "      <td>678902.0</td>\n",
              "      <td>0</td>\n",
              "      <td>203.000000</td>\n",
              "      <td>7.216216</td>\n",
              "      <td>1.0</td>\n",
              "      <td>557.540541</td>\n",
              "      <td>4.324324</td>\n",
              "      <td>0</td>\n",
              "    </tr>\n",
              "    <tr>\n",
              "      <th>2</th>\n",
              "      <td>train_Client_10</td>\n",
              "      <td>18</td>\n",
              "      <td>798.611111</td>\n",
              "      <td>37.888889</td>\n",
              "      <td>0.000000</td>\n",
              "      <td>0.000000</td>\n",
              "      <td>11.0</td>\n",
              "      <td>572765.0</td>\n",
              "      <td>0</td>\n",
              "      <td>203.222222</td>\n",
              "      <td>7.055556</td>\n",
              "      <td>1.0</td>\n",
              "      <td>836.500000</td>\n",
              "      <td>6.444444</td>\n",
              "      <td>0</td>\n",
              "    </tr>\n",
              "    <tr>\n",
              "      <th>3</th>\n",
              "      <td>train_Client_100</td>\n",
              "      <td>20</td>\n",
              "      <td>1.200000</td>\n",
              "      <td>0.000000</td>\n",
              "      <td>0.000000</td>\n",
              "      <td>0.000000</td>\n",
              "      <td>11.0</td>\n",
              "      <td>2078.0</td>\n",
              "      <td>0</td>\n",
              "      <td>413.000000</td>\n",
              "      <td>6.150000</td>\n",
              "      <td>1.0</td>\n",
              "      <td>1.200000</td>\n",
              "      <td>4.200000</td>\n",
              "      <td>0</td>\n",
              "    </tr>\n",
              "    <tr>\n",
              "      <th>4</th>\n",
              "      <td>train_Client_1000</td>\n",
              "      <td>14</td>\n",
              "      <td>663.714286</td>\n",
              "      <td>104.857143</td>\n",
              "      <td>117.357143</td>\n",
              "      <td>36.714286</td>\n",
              "      <td>11.0</td>\n",
              "      <td>19575.0</td>\n",
              "      <td>0</td>\n",
              "      <td>207.000000</td>\n",
              "      <td>8.857143</td>\n",
              "      <td>1.0</td>\n",
              "      <td>922.642857</td>\n",
              "      <td>3.714286</td>\n",
              "      <td>0</td>\n",
              "    </tr>\n",
              "  </tbody>\n",
              "</table>\n",
              "</div>"
            ],
            "text/plain": [
              "           client_id  1transactions_count  consommation_level_1_mean  \\\n",
              "0     train_Client_0                   35                 352.400000   \n",
              "1     train_Client_1                   37                 557.540541   \n",
              "2    train_Client_10                   18                 798.611111   \n",
              "3   train_Client_100                   20                   1.200000   \n",
              "4  train_Client_1000                   14                 663.714286   \n",
              "\n",
              "   consommation_level_2_mean  consommation_level_3_mean  \\\n",
              "0                  10.571429                   0.000000   \n",
              "1                   0.000000                   0.000000   \n",
              "2                  37.888889                   0.000000   \n",
              "3                   0.000000                   0.000000   \n",
              "4                 104.857143                 117.357143   \n",
              "\n",
              "   consommation_level_4_mean  tarif_type_mean  counter_number_mean  \\\n",
              "0                   0.000000             11.0            1335667.0   \n",
              "1                   0.000000             11.0             678902.0   \n",
              "2                   0.000000             11.0             572765.0   \n",
              "3                   0.000000             11.0               2078.0   \n",
              "4                  36.714286             11.0              19575.0   \n",
              "\n",
              "  counter_statue_mode  counter_code_mean  reading_remarque_mean  \\\n",
              "0                   0         203.685714               6.971429   \n",
              "1                   0         203.000000               7.216216   \n",
              "2                   0         203.222222               7.055556   \n",
              "3                   0         413.000000               6.150000   \n",
              "4                   0         207.000000               8.857143   \n",
              "\n",
              "   counter_coefficient_mean  delta_index_mean  months_number_mean  \\\n",
              "0                       1.0        362.971429            4.628571   \n",
              "1                       1.0        557.540541            4.324324   \n",
              "2                       1.0        836.500000            6.444444   \n",
              "3                       1.0          1.200000            4.200000   \n",
              "4                       1.0        922.642857            3.714286   \n",
              "\n",
              "  counter_type_mode  \n",
              "0                 0  \n",
              "1                 0  \n",
              "2                 0  \n",
              "3                 0  \n",
              "4                 0  "
            ]
          },
          "execution_count": 28,
          "metadata": {},
          "output_type": "execute_result"
        }
      ],
      "source": [
        "#group invoice data by client_id\n",
        "agg_train = aggregate_by_client_id(invoice_train)\n",
        "print(agg_train.shape)\n",
        "agg_train.head()"
      ]
    },
    {
      "cell_type": "code",
      "execution_count": 29,
      "metadata": {
        "id": "beXOMOEMW97l"
      },
      "outputs": [],
      "source": [
        "#merge aggregate data with client dataset\n",
        "train = pd.merge(client_train,agg_train, on='client_id', how='left')"
      ]
    },
    {
      "cell_type": "code",
      "execution_count": 30,
      "metadata": {
        "id": "y6SFawOVXFDX"
      },
      "outputs": [],
      "source": [
        "#aggregate test set\n",
        "agg_test = aggregate_by_client_id(invoice_test)\n",
        "test = pd.merge(client_test,agg_test, on='client_id', how='left')"
      ]
    },
    {
      "cell_type": "code",
      "execution_count": 31,
      "metadata": {
        "colab": {
          "base_uri": "https://localhost:8080/"
        },
        "id": "dg0832jcXzkI",
        "outputId": "2c6ff557-0258-4310-d8f6-aad0627c9ddb"
      },
      "outputs": [
        {
          "data": {
            "text/plain": [
              "((135493, 20), (58069, 19))"
            ]
          },
          "execution_count": 31,
          "metadata": {},
          "output_type": "execute_result"
        }
      ],
      "source": [
        "train.shape, test.shape"
      ]
    },
    {
      "cell_type": "code",
      "execution_count": 32,
      "metadata": {},
      "outputs": [
        {
          "name": "stdout",
          "output_type": "stream",
          "text": [
            "<class 'pandas.core.frame.DataFrame'>\n",
            "Int64Index: 135493 entries, 0 to 135492\n",
            "Data columns (total 20 columns):\n",
            " #   Column                     Non-Null Count   Dtype  \n",
            "---  ------                     --------------   -----  \n",
            " 0   disrict                    135493 non-null  int64  \n",
            " 1   client_id                  135493 non-null  object \n",
            " 2   client_catg                135493 non-null  int64  \n",
            " 3   region                     135493 non-null  int64  \n",
            " 4   creation_date              135493 non-null  object \n",
            " 5   target                     135493 non-null  float64\n",
            " 6   1transactions_count        128364 non-null  float64\n",
            " 7   consommation_level_1_mean  128364 non-null  float64\n",
            " 8   consommation_level_2_mean  128364 non-null  float64\n",
            " 9   consommation_level_3_mean  128364 non-null  float64\n",
            " 10  consommation_level_4_mean  128364 non-null  float64\n",
            " 11  tarif_type_mean            128364 non-null  float64\n",
            " 12  counter_number_mean        128364 non-null  float64\n",
            " 13  counter_statue_mode        128364 non-null  object \n",
            " 14  counter_code_mean          128364 non-null  float64\n",
            " 15  reading_remarque_mean      128364 non-null  float64\n",
            " 16  counter_coefficient_mean   128364 non-null  float64\n",
            " 17  delta_index_mean           128364 non-null  float64\n",
            " 18  months_number_mean         128364 non-null  float64\n",
            " 19  counter_type_mode          128364 non-null  object \n",
            "dtypes: float64(13), int64(3), object(4)\n",
            "memory usage: 21.7+ MB\n"
          ]
        }
      ],
      "source": [
        "train.info()"
      ]
    },
    {
      "attachments": {},
      "cell_type": "markdown",
      "metadata": {},
      "source": [
        "### Dropping redundant columns"
      ]
    },
    {
      "cell_type": "code",
      "execution_count": 33,
      "metadata": {
        "id": "BwYBcKk8X3mr"
      },
      "outputs": [
        {
          "data": {
            "text/html": [
              "<div>\n",
              "<style scoped>\n",
              "    .dataframe tbody tr th:only-of-type {\n",
              "        vertical-align: middle;\n",
              "    }\n",
              "\n",
              "    .dataframe tbody tr th {\n",
              "        vertical-align: top;\n",
              "    }\n",
              "\n",
              "    .dataframe thead th {\n",
              "        text-align: right;\n",
              "    }\n",
              "</style>\n",
              "<table border=\"1\" class=\"dataframe\">\n",
              "  <thead>\n",
              "    <tr style=\"text-align: right;\">\n",
              "      <th></th>\n",
              "      <th>disrict</th>\n",
              "      <th>client_catg</th>\n",
              "      <th>region</th>\n",
              "      <th>target</th>\n",
              "      <th>1transactions_count</th>\n",
              "      <th>consommation_level_1_mean</th>\n",
              "      <th>consommation_level_2_mean</th>\n",
              "      <th>consommation_level_3_mean</th>\n",
              "      <th>consommation_level_4_mean</th>\n",
              "      <th>tarif_type_mean</th>\n",
              "      <th>counter_number_mean</th>\n",
              "      <th>counter_statue_mode</th>\n",
              "      <th>counter_code_mean</th>\n",
              "      <th>reading_remarque_mean</th>\n",
              "      <th>counter_coefficient_mean</th>\n",
              "      <th>delta_index_mean</th>\n",
              "      <th>months_number_mean</th>\n",
              "      <th>counter_type_mode</th>\n",
              "    </tr>\n",
              "  </thead>\n",
              "  <tbody>\n",
              "    <tr>\n",
              "      <th>0</th>\n",
              "      <td>60</td>\n",
              "      <td>11</td>\n",
              "      <td>101</td>\n",
              "      <td>0.0</td>\n",
              "      <td>35.0</td>\n",
              "      <td>352.400000</td>\n",
              "      <td>10.571429</td>\n",
              "      <td>0.000000</td>\n",
              "      <td>0.000000</td>\n",
              "      <td>11.0</td>\n",
              "      <td>1335667.0</td>\n",
              "      <td>0</td>\n",
              "      <td>203.685714</td>\n",
              "      <td>6.971429</td>\n",
              "      <td>1.0</td>\n",
              "      <td>362.971429</td>\n",
              "      <td>4.628571</td>\n",
              "      <td>0</td>\n",
              "    </tr>\n",
              "    <tr>\n",
              "      <th>1</th>\n",
              "      <td>69</td>\n",
              "      <td>11</td>\n",
              "      <td>107</td>\n",
              "      <td>0.0</td>\n",
              "      <td>37.0</td>\n",
              "      <td>557.540541</td>\n",
              "      <td>0.000000</td>\n",
              "      <td>0.000000</td>\n",
              "      <td>0.000000</td>\n",
              "      <td>11.0</td>\n",
              "      <td>678902.0</td>\n",
              "      <td>0</td>\n",
              "      <td>203.000000</td>\n",
              "      <td>7.216216</td>\n",
              "      <td>1.0</td>\n",
              "      <td>557.540541</td>\n",
              "      <td>4.324324</td>\n",
              "      <td>0</td>\n",
              "    </tr>\n",
              "    <tr>\n",
              "      <th>2</th>\n",
              "      <td>62</td>\n",
              "      <td>11</td>\n",
              "      <td>301</td>\n",
              "      <td>0.0</td>\n",
              "      <td>18.0</td>\n",
              "      <td>798.611111</td>\n",
              "      <td>37.888889</td>\n",
              "      <td>0.000000</td>\n",
              "      <td>0.000000</td>\n",
              "      <td>11.0</td>\n",
              "      <td>572765.0</td>\n",
              "      <td>0</td>\n",
              "      <td>203.222222</td>\n",
              "      <td>7.055556</td>\n",
              "      <td>1.0</td>\n",
              "      <td>836.500000</td>\n",
              "      <td>6.444444</td>\n",
              "      <td>0</td>\n",
              "    </tr>\n",
              "    <tr>\n",
              "      <th>3</th>\n",
              "      <td>69</td>\n",
              "      <td>11</td>\n",
              "      <td>105</td>\n",
              "      <td>0.0</td>\n",
              "      <td>20.0</td>\n",
              "      <td>1.200000</td>\n",
              "      <td>0.000000</td>\n",
              "      <td>0.000000</td>\n",
              "      <td>0.000000</td>\n",
              "      <td>11.0</td>\n",
              "      <td>2078.0</td>\n",
              "      <td>0</td>\n",
              "      <td>413.000000</td>\n",
              "      <td>6.150000</td>\n",
              "      <td>1.0</td>\n",
              "      <td>1.200000</td>\n",
              "      <td>4.200000</td>\n",
              "      <td>0</td>\n",
              "    </tr>\n",
              "    <tr>\n",
              "      <th>4</th>\n",
              "      <td>62</td>\n",
              "      <td>11</td>\n",
              "      <td>303</td>\n",
              "      <td>0.0</td>\n",
              "      <td>14.0</td>\n",
              "      <td>663.714286</td>\n",
              "      <td>104.857143</td>\n",
              "      <td>117.357143</td>\n",
              "      <td>36.714286</td>\n",
              "      <td>11.0</td>\n",
              "      <td>19575.0</td>\n",
              "      <td>0</td>\n",
              "      <td>207.000000</td>\n",
              "      <td>8.857143</td>\n",
              "      <td>1.0</td>\n",
              "      <td>922.642857</td>\n",
              "      <td>3.714286</td>\n",
              "      <td>0</td>\n",
              "    </tr>\n",
              "  </tbody>\n",
              "</table>\n",
              "</div>"
            ],
            "text/plain": [
              "   disrict  client_catg  region  target  1transactions_count  \\\n",
              "0       60           11     101     0.0                 35.0   \n",
              "1       69           11     107     0.0                 37.0   \n",
              "2       62           11     301     0.0                 18.0   \n",
              "3       69           11     105     0.0                 20.0   \n",
              "4       62           11     303     0.0                 14.0   \n",
              "\n",
              "   consommation_level_1_mean  consommation_level_2_mean  \\\n",
              "0                 352.400000                  10.571429   \n",
              "1                 557.540541                   0.000000   \n",
              "2                 798.611111                  37.888889   \n",
              "3                   1.200000                   0.000000   \n",
              "4                 663.714286                 104.857143   \n",
              "\n",
              "   consommation_level_3_mean  consommation_level_4_mean  tarif_type_mean  \\\n",
              "0                   0.000000                   0.000000             11.0   \n",
              "1                   0.000000                   0.000000             11.0   \n",
              "2                   0.000000                   0.000000             11.0   \n",
              "3                   0.000000                   0.000000             11.0   \n",
              "4                 117.357143                  36.714286             11.0   \n",
              "\n",
              "   counter_number_mean counter_statue_mode  counter_code_mean  \\\n",
              "0            1335667.0                   0         203.685714   \n",
              "1             678902.0                   0         203.000000   \n",
              "2             572765.0                   0         203.222222   \n",
              "3               2078.0                   0         413.000000   \n",
              "4              19575.0                   0         207.000000   \n",
              "\n",
              "   reading_remarque_mean  counter_coefficient_mean  delta_index_mean  \\\n",
              "0               6.971429                       1.0        362.971429   \n",
              "1               7.216216                       1.0        557.540541   \n",
              "2               7.055556                       1.0        836.500000   \n",
              "3               6.150000                       1.0          1.200000   \n",
              "4               8.857143                       1.0        922.642857   \n",
              "\n",
              "   months_number_mean counter_type_mode  \n",
              "0            4.628571                 0  \n",
              "1            4.324324                 0  \n",
              "2            6.444444                 0  \n",
              "3            4.200000                 0  \n",
              "4            3.714286                 0  "
            ]
          },
          "execution_count": 33,
          "metadata": {},
          "output_type": "execute_result"
        }
      ],
      "source": [
        "#drop redundant columns\n",
        "sub_client_id = test['client_id']\n",
        "drop_columns = ['client_id', 'creation_date']\n",
        "\n",
        "for col in drop_columns:\n",
        "    if col in train.columns:\n",
        "        train.drop([col], axis=1, inplace=True)\n",
        "    if col in test.columns:\n",
        "        test.drop([col], axis=1, inplace=True)\n",
        "\n",
        "# Checking head of train dataset after dropping\n",
        "train.head()"
      ]
    },
    {
      "attachments": {},
      "cell_type": "markdown",
      "metadata": {},
      "source": [
        "## Saving train and test data to csv file"
      ]
    },
    {
      "cell_type": "code",
      "execution_count": 34,
      "metadata": {},
      "outputs": [],
      "source": [
        "train.to_csv('data/train.csv', index=False)"
      ]
    },
    {
      "cell_type": "code",
      "execution_count": 35,
      "metadata": {},
      "outputs": [],
      "source": [
        "test.to_csv('data/test.csv', index=False)"
      ]
    }
  ],
  "metadata": {
    "colab": {
      "provenance": []
    },
    "kernelspec": {
      "display_name": "Python 3",
      "name": "python3"
    },
    "language_info": {
      "codemirror_mode": {
        "name": "ipython",
        "version": 3
      },
      "file_extension": ".py",
      "mimetype": "text/x-python",
      "name": "python",
      "nbconvert_exporter": "python",
      "pygments_lexer": "ipython3",
      "version": "3.9.8"
    }
  },
  "nbformat": 4,
  "nbformat_minor": 0
}
